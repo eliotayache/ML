{
 "cells": [
  {
   "cell_type": "markdown",
   "metadata": {},
   "source": [
    "#A simple autoencoder test\n",
    "Bottleneck consists of a single number, which determines the fraction of the image covered in black squares"
   ]
  },
  {
   "cell_type": "code",
   "execution_count": 1,
   "metadata": {},
   "outputs": [],
   "source": [
    "import numpy as np\n",
    "\n",
    "import tensorflow as tf\n",
    "from tensorflow.keras import datasets, layers, models\n",
    "\n",
    "from matplotlib import pyplot as plt"
   ]
  },
  {
   "cell_type": "code",
   "execution_count": 2,
   "metadata": {},
   "outputs": [],
   "source": [
    "# Decoder goes here\n",
    "N_image = 28 # Size of (square) input image\n",
    "\n",
    "def regions(x):\n",
    "    # x represents the fraction of the image full of ones\n",
    "    img = np.zeros(N_image*N_image).reshape(N_image,N_image) - 1\n",
    "    Q = int(np.floor(x*N_image))\n",
    "    img[:,0:Q] = 1\n",
    "    return img"
   ]
  },
  {
   "cell_type": "code",
   "execution_count": 3,
   "metadata": {},
   "outputs": [
    {
     "name": "stdout",
     "output_type": "stream",
     "text": [
      "[ 1.  1.  1.  1.  1.  1.  1.  1. -1. -1. -1. -1. -1. -1. -1. -1. -1. -1.\n",
      " -1. -1. -1. -1. -1. -1. -1. -1. -1. -1.]\n"
     ]
    },
    {
     "data": {
      "image/png": "[encoded data removed]",
      "text/plain": [
       "<Figure size 432x288 with 1 Axes>"
      ]
     },
     "metadata": {
      "needs_background": "light"
     },
     "output_type": "display_data"
    }
   ],
   "source": [
    "# And here's a test to see that the decoder does what we expect:\n",
    "plt.imshow(regions(0.3))\n",
    "print regions(0.3)[int(N_image/2),:]"
   ]
  },
  {
   "cell_type": "code",
   "execution_count": 4,
   "metadata": {},
   "outputs": [],
   "source": [
    "#Making dataset\n",
    "N_train = 1000\n",
    "noise = 0.3\n",
    "\n",
    "train_images = []\n",
    "train_labels = []\n",
    "for i in range(N_train):\n",
    "    x = np.random.uniform()\n",
    "    train_labels.append(np.int(np.round(x,1)*10))\n",
    "    img = regions(x) + np.random.normal(0,noise,N_image*N_image).reshape(N_image,N_image)\n",
    "    train_images.append(img)\n",
    "\n",
    "train_images = np.array(train_images)\n",
    "train_images_transposed = np.array([img.transpose() for img in train_images])\n",
    "train_images = np.concatenate((train_images, train_images_transposed))\n",
    "train_images = train_images.reshape(2*N_train,N_image,N_image,1)\n",
    "train_labels = np.array(train_labels)"
   ]
  },
  {
   "cell_type": "code",
   "execution_count": 5,
   "metadata": {},
   "outputs": [
    {
     "name": "stdout",
     "output_type": "stream",
     "text": [
      "(2000, 28, 28, 1)\n"
     ]
    }
   ],
   "source": [
    "print train_images.shape"
   ]
  },
  {
   "cell_type": "code",
   "execution_count": 6,
   "metadata": {},
   "outputs": [
    {
     "data": {
      "image/png": "[encoded data removed]",
      "text/plain": [
       "<Figure size 432x288 with 1 Axes>"
      ]
     },
     "metadata": {
      "needs_background": "light"
     },
     "output_type": "display_data"
    },
    {
     "name": "stdout",
     "output_type": "stream",
     "text": [
      "[ 1.06984622  1.23653835  1.54023483  0.48520165  0.93536147  1.18061648\n",
      "  0.61062741  0.80985012  1.03132988  0.78549004  0.65888009  1.06144332\n",
      "  0.86926411  0.91076877 -0.89612034 -1.00920954 -0.48377343 -1.15222106\n",
      " -1.38797913 -1.30651407 -0.42963011 -1.04402988 -1.06734749 -1.39809224\n",
      " -1.24900544 -0.78900238 -0.94903432 -1.03070272]\n"
     ]
    }
   ],
   "source": [
    "# And here's a test to check that the training images are reasonable:\n",
    "plt.imshow(train_images[7,:,:,0])\n",
    "plt.show()\n",
    "print train_images[3,int(N_image/2),:,0]"
   ]
  },
  {
   "cell_type": "code",
   "execution_count": 7,
   "metadata": {},
   "outputs": [
    {
     "data": {
      "image/png": "[encoded data removed]",
      "text/plain": [
       "<Figure size 432x288 with 1 Axes>"
      ]
     },
     "metadata": {
      "needs_background": "light"
     },
     "output_type": "display_data"
    },
    {
     "name": "stdout",
     "output_type": "stream",
     "text": [
      "[ 0.42167763  0.38436464  0.34364897  0.31458005  0.27506963  0.23446199\n",
      "  0.20348344  0.17309482  0.14027395  0.10347162  0.05056054  0.01360516\n",
      " -0.0300227  -0.05551495 -0.09275136 -0.1407002  -0.15448754 -0.19340347\n",
      " -0.22633732 -0.25462051 -0.30959975 -0.34382237 -0.38817074 -0.42663928\n",
      " -0.45744945 -0.47135675 -0.51545798 -0.54782556]\n"
     ]
    }
   ],
   "source": [
    "mean_image = np.mean(train_images,axis=0)[:,:,0]\n",
    "plt.imshow(mean_image)\n",
    "plt.show()\n",
    "print mean_image[int(N_image/2),:]"
   ]
  },
  {
   "cell_type": "code",
   "execution_count": 8,
   "metadata": {},
   "outputs": [],
   "source": [
    "from __future__ import division\n",
    "\n",
    "def normalize_meanstd(a, axis=None):\n",
    "    # axis param denotes axes along which mean & std reductions are to be performed\n",
    "    mean = np.mean(a, axis=axis, keepdims=True)\n",
    "    std = np.sqrt(((a - mean)**2).mean(axis=axis, keepdims=True))\n",
    "    return (a - mean) / std, mean, std\n",
    "\n",
    "train_images_std, mean, std = normalize_meanstd(train_images, axis=(1,2))"
   ]
  },
  {
   "cell_type": "code",
   "execution_count": 9,
   "metadata": {},
   "outputs": [],
   "source": [
    "#Lambda Layer (Decoder)\n",
    "def make_regions(x):\n",
    "    img = tf.to_float(tf.convert_to_tensor(np.repeat(np.arange(N_image),N_image).reshape(N_image,N_image)))\n",
    "    #np.zeros(N_image*N_image).reshape(N_image,N_image)\n",
    "    #Q = tf.math.int(tf.math.floor(x*N_image))#int(np.floor(x*N_image))\n",
    "    #condi = tf.math.greater(img, x)\n",
    "    unity = tf.convert_to_tensor(np.repeat(1., N_image*N_image).reshape(N_image, N_image))\n",
    "    zeros = tf.convert_to_tensor(np.zeros(N_image*N_image).reshape(N_image, N_image))\n",
    "    tf.where(img > x, unity, zeros)\n",
    "    return img"
   ]
  },
  {
   "cell_type": "code",
   "execution_count": 10,
   "metadata": {},
   "outputs": [
    {
     "name": "stderr",
     "output_type": "stream",
     "text": [
      "WARNING: Logging before flag parsing goes to stderr.\n",
      "W1003 11:29:46.956928 139730781783424 deprecation.py:506] From /home/tanmoy/anaconda/lib/python2.7/site-packages/tensorflow/python/ops/init_ops.py:1251: calling __init__ (from tensorflow.python.ops.init_ops) with dtype is deprecated and will be removed in a future version.\n",
      "Instructions for updating:\n",
      "Call initializer instance with the dtype argument instead of passing it to the constructor\n"
     ]
    },
    {
     "name": "stdout",
     "output_type": "stream",
     "text": [
      "Model: \"sequential\"\n",
      "_________________________________________________________________\n",
      "Layer (type)                 Output Shape              Param #   \n",
      "=================================================================\n",
      "conv2d (Conv2D)              (None, 28, 28, 32)        320       \n",
      "_________________________________________________________________\n",
      "max_pooling2d (MaxPooling2D) (None, 14, 14, 32)        0         \n",
      "_________________________________________________________________\n",
      "conv2d_1 (Conv2D)            (None, 14, 14, 64)        18496     \n",
      "_________________________________________________________________\n",
      "max_pooling2d_1 (MaxPooling2 (None, 7, 7, 64)          0         \n",
      "_________________________________________________________________\n",
      "conv2d_2 (Conv2D)            (None, 7, 7, 64)          36928     \n",
      "_________________________________________________________________\n",
      "flatten (Flatten)            (None, 3136)              0         \n",
      "_________________________________________________________________\n",
      "dense (Dense)                (None, 128)               401536    \n",
      "_________________________________________________________________\n",
      "dense_1 (Dense)              (None, 3136)              404544    \n",
      "_________________________________________________________________\n",
      "reshape (Reshape)            (None, 7, 7, 64)          0         \n",
      "_________________________________________________________________\n",
      "conv2d_3 (Conv2D)            (None, 7, 7, 64)          36928     \n",
      "_________________________________________________________________\n",
      "up_sampling2d (UpSampling2D) (None, 14, 14, 64)        0         \n",
      "_________________________________________________________________\n",
      "conv2d_4 (Conv2D)            (None, 14, 14, 64)        36928     \n",
      "_________________________________________________________________\n",
      "up_sampling2d_1 (UpSampling2 (None, 28, 28, 64)        0         \n",
      "_________________________________________________________________\n",
      "conv2d_5 (Conv2D)            (None, 28, 28, 1)         577       \n",
      "=================================================================\n",
      "Total params: 936,257\n",
      "Trainable params: 936,257\n",
      "Non-trainable params: 0\n",
      "_________________________________________________________________\n"
     ]
    }
   ],
   "source": [
    "model = models.Sequential()\n",
    "filt_size = 3\n",
    "fs = filt_size\n",
    "model.add(layers.Conv2D(32, (fs, fs), activation='relu', padding=\"same\", input_shape = (N_image,N_image,1),strides=(1,1)))\n",
    "model.add(layers.MaxPooling2D((2, 2)))\n",
    "model.add(layers.Conv2D(64, (fs, fs), activation='relu', padding=\"same\"))\n",
    "model.add(layers.MaxPooling2D((2, 2)))\n",
    "model.add(layers.Conv2D(64, (fs, fs), activation='relu', padding=\"same\"))\n",
    "\n",
    "model.add(layers.Flatten())\n",
    "model.add(layers.Dense(128, activation='relu'))\n",
    "model.add(layers.Dense(3136, activation='relu'))\n",
    "model.add(layers.Reshape((7, 7, 64)))\n",
    "\n",
    "model.add(layers.Conv2D(64, (fs, fs), activation='relu', padding=\"same\"))\n",
    "model.add(layers.UpSampling2D((2, 2)))\n",
    "model.add(layers.Conv2D(64, (fs, fs), activation='relu', padding=\"same\"))\n",
    "model.add(layers.UpSampling2D((2, 2)))\n",
    "model.add(layers.Conv2D(1, (fs, fs), activation='sigmoid', padding=\"same\"))\n",
    "\n",
    "#model.add(layers.Flatten())\n",
    "#model.add(layers.Dense(64, activation='relu'))\n",
    "#model.add(layers.Dense(1))\n",
    "#model.add(layers.Lambda(make_regions))\n",
    "model.summary()"
   ]
  },
  {
   "cell_type": "code",
   "execution_count": 11,
   "metadata": {},
   "outputs": [],
   "source": [
    "model.compile(optimizer='RMSprop',\n",
    "              loss='mean_squared_error',\n",
    "              metrics=['accuracy']\n",
    "             )\n",
    "#model.compile(optimizer='adam',\n",
    "#              loss='sparse_categorical_crossentropy',\n",
    "#              metrics=['accuracy'])\n"
   ]
  },
  {
   "cell_type": "code",
   "execution_count": 12,
   "metadata": {},
   "outputs": [
    {
     "name": "stdout",
     "output_type": "stream",
     "text": [
      "Epoch 1/5\n",
      "2000/2000 [==============================] - 3s 2ms/sample - loss: 0.7682 - acc: 0.0000e+00\n",
      "Epoch 2/5\n",
      "2000/2000 [==============================] - 3s 2ms/sample - loss: 0.6652 - acc: 0.0000e+00\n",
      "Epoch 3/5\n",
      "2000/2000 [==============================] - 3s 2ms/sample - loss: 0.6510 - acc: 0.0000e+00\n",
      "Epoch 4/5\n",
      "2000/2000 [==============================] - 3s 2ms/sample - loss: 0.6429 - acc: 0.0000e+00\n",
      "Epoch 5/5\n",
      "2000/2000 [==============================] - 3s 2ms/sample - loss: 0.6377 - acc: 0.0000e+00\n"
     ]
    },
    {
     "data": {
      "text/plain": [
       "<tensorflow.python.keras.callbacks.History at 0x7f1556ad8c10>"
      ]
     },
     "execution_count": 12,
     "metadata": {},
     "output_type": "execute_result"
    }
   ],
   "source": [
    "model.fit(train_images, train_images, epochs=5)\n",
    "#model.fit(train_images, train_labels/10., epochs=5)"
   ]
  },
  {
   "cell_type": "code",
   "execution_count": 13,
   "metadata": {},
   "outputs": [],
   "source": [
    "test_img = regions(0.7).reshape(28,28,1)# + np.random.normal(0,noise,N_image*N_image).reshape(N_image,N_image,1)\n",
    "#test_img = test_img[:,:,0].transpose().reshape(28,28,1)\n",
    "out = model.predict(np.array([test_img]))"
   ]
  },
  {
   "cell_type": "code",
   "execution_count": 14,
   "metadata": {},
   "outputs": [
    {
     "data": {
      "image/png": "[encoded data removed]",
      "text/plain": [
       "<Figure size 432x288 with 1 Axes>"
      ]
     },
     "metadata": {
      "needs_background": "light"
     },
     "output_type": "display_data"
    },
    {
     "name": "stdout",
     "output_type": "stream",
     "text": [
      "[ 1.  1.  1.  1.  1.  1.  1.  1.  1.  1.  1.  1.  1.  1.  1.  1.  1.  1.\n",
      "  1. -1. -1. -1. -1. -1. -1. -1. -1. -1.]\n"
     ]
    }
   ],
   "source": [
    "plt.imshow(test_img[:,:,0])\n",
    "plt.show()\n",
    "print test_img[0,:,0]"
   ]
  },
  {
   "cell_type": "code",
   "execution_count": 15,
   "metadata": {},
   "outputs": [
    {
     "data": {
      "image/png": "[encoded data removed]",
      "text/plain": [
       "<Figure size 432x288 with 1 Axes>"
      ]
     },
     "metadata": {
      "needs_background": "light"
     },
     "output_type": "display_data"
    },
    {
     "name": "stdout",
     "output_type": "stream",
     "text": [
      "[1.         1.         1.         1.         1.         1.\n",
      " 1.         1.         1.         1.         1.         1.\n",
      " 1.         1.         1.         1.         0.99999976 0.99986494\n",
      " 0.85823756 0.0034385  0.         0.         0.         0.\n",
      " 0.         0.         0.         0.        ]\n"
     ]
    }
   ],
   "source": [
    "plt.imshow(out[0,:,:,0])\n",
    "plt.show()\n",
    "print out[0,15,:,0]\n",
    "#print out"
   ]
  },
  {
   "cell_type": "code",
   "execution_count": 16,
   "metadata": {},
   "outputs": [
    {
     "name": "stdout",
     "output_type": "stream",
     "text": [
      "(3136, 128)\n"
     ]
    }
   ],
   "source": [
    "w = model.get_weights()\n",
    "warr = np.array(w)\n",
    "print warr[6].shape"
   ]
  },
  {
   "cell_type": "code",
   "execution_count": 17,
   "metadata": {},
   "outputs": [
    {
     "data": {
      "text/plain": [
       "(array([5.0000e+00, 1.2000e+01, 4.4000e+01, 1.3000e+02, 3.7600e+02,\n",
       "        8.4000e+02, 1.9390e+03, 4.0880e+03, 8.0060e+03, 2.4094e+04,\n",
       "        3.4213e+04, 3.6949e+04, 3.8892e+04, 3.9553e+04, 3.9769e+04,\n",
       "        3.9195e+04, 3.8238e+04, 3.6332e+04, 3.1498e+04, 1.3983e+04,\n",
       "        6.2750e+03, 3.4210e+03, 1.7680e+03, 8.6500e+02, 4.6000e+02,\n",
       "        2.5000e+02, 1.2400e+02, 6.0000e+01, 2.2000e+01, 7.0000e+00]),\n",
       " array([-0.12523131, -0.11652011, -0.10780893, -0.09909773, -0.09038654,\n",
       "        -0.08167534, -0.07296415, -0.06425296, -0.05554176, -0.04683057,\n",
       "        -0.03811938, -0.02940818, -0.02069699, -0.0119858 , -0.0032746 ,\n",
       "         0.00543659,  0.01414779,  0.02285898,  0.03157017,  0.04028137,\n",
       "         0.04899256,  0.05770375,  0.06641494,  0.07512614,  0.08383733,\n",
       "         0.09254853,  0.10125972,  0.10997091,  0.11868211,  0.1273933 ,\n",
       "         0.1361045 ], dtype=float32),\n",
       " <a list of 30 Patch objects>)"
      ]
     },
     "execution_count": 17,
     "metadata": {},
     "output_type": "execute_result"
    },
    {
     "data": {
      "image/png": "[encoded data removed]",
      "text/plain": [
       "<Figure size 432x288 with 1 Axes>"
      ]
     },
     "metadata": {
      "needs_background": "light"
     },
     "output_type": "display_data"
    }
   ],
   "source": [
    "#plt.imshow(warr[6],aspect='auto')\n",
    "plt.hist(warr[6].reshape(-1),bins=30)"
   ]
  },
  {
   "cell_type": "code",
   "execution_count": 19,
   "metadata": {},
   "outputs": [],
   "source": [
    "# Run the following to see all the weights (filters) for one of the layers\n",
    "#for i in np.arange(64):    \n",
    "#    plt.imshow(w[2][:,:,0,i])\n",
    "#    #plt.imshow(np.random.uniform(-1,1,9*9).reshape(9,9))\n",
    "#    plt.show()"
   ]
  },
  {
   "cell_type": "code",
   "execution_count": 191,
   "metadata": {},
   "outputs": [],
   "source": [
    "#Lambda Layer (Decoder) (TL's copy):\n",
    "def make_regions(x):\n",
    "    x_int = x[1]\n",
    "    print x, tf.to_float(x_int)\n",
    "    img = np.zeros(N_image*N_image).reshape(N_image,N_image)\n",
    "    Q = int(np.floor(x_int*N_image))\n",
    "    img[:,0:Q] = 1\n",
    "    return img\n",
    "\n",
    "model = models.Sequential()\n",
    "model.add(layers.Conv2D(32, (3, 3), activation='relu', input_shape=(28, 28, 1)))\n",
    "model.add(layers.MaxPooling2D((2, 2)))\n",
    "model.add(layers.Conv2D(64, (3, 3), activation='relu'))\n",
    "model.add(layers.MaxPooling2D((2, 2)))\n",
    "model.add(layers.Conv2D(64, (3, 3), activation='relu'))\n",
    "model.add(layers.Flatten())\n",
    "model.add(layers.Dense(64, activation='relu'))\n",
    "model.add(layers.Dense(1, activation='softmax'))\n",
    "model.add(layers.Lambda(make_regions))"
   ]
  },
  {
   "cell_type": "code",
   "execution_count": 70,
   "metadata": {},
   "outputs": [
    {
     "name": "stdout",
     "output_type": "stream",
     "text": [
      "_________________________________________________________________\n",
      "Layer (type)                 Output Shape              Param #   \n",
      "=================================================================\n",
      "conv2d_6 (Conv2D)            (None, 26, 26, 32)        320       \n",
      "_________________________________________________________________\n",
      "max_pooling2d_4 (MaxPooling2 (None, 13, 13, 32)        0         \n",
      "_________________________________________________________________\n",
      "conv2d_7 (Conv2D)            (None, 11, 11, 64)        18496     \n",
      "_________________________________________________________________\n",
      "max_pooling2d_5 (MaxPooling2 (None, 5, 5, 64)          0         \n",
      "_________________________________________________________________\n",
      "conv2d_8 (Conv2D)            (None, 3, 3, 64)          36928     \n",
      "_________________________________________________________________\n",
      "flatten_2 (Flatten)          (None, 576)               0         \n",
      "_________________________________________________________________\n",
      "dense_4 (Dense)              (None, 64)                36928     \n",
      "_________________________________________________________________\n",
      "dense_5 (Dense)              (None, 1)                 65        \n",
      "=================================================================\n",
      "Total params: 92,737\n",
      "Trainable params: 92,737\n",
      "Non-trainable params: 0\n",
      "_________________________________________________________________\n"
     ]
    }
   ],
   "source": [
    "model.summary()"
   ]
  },
  {
   "cell_type": "code",
   "execution_count": 5,
   "metadata": {},
   "outputs": [],
   "source": [
    "# Here's the mnist train data, for reference:\n",
    "\n",
    "#mnist_data = np.load('mnist.npz')\n",
    "#(train_images, train_labels), (test_images, test_labels) = (mnist_data['x_train'], mnist_data['y_train']), (mnist_data['x_test'], mnist_data['y_test'])"
   ]
  },
  {
   "cell_type": "code",
   "execution_count": 6,
   "metadata": {},
   "outputs": [],
   "source": [
    "train_images = train_images.reshape((60000, 28, 28, 1))\n",
    "test_images = test_images.reshape((10000, 28, 28, 1))\n",
    "\n",
    "# Normalize pixel values to be between 0 and 1\n",
    "train_images, test_images = train_images / 255.0, test_images / 255.0\n"
   ]
  },
  {
   "cell_type": "code",
   "execution_count": 66,
   "metadata": {},
   "outputs": [],
   "source": [
    "model = models.Sequential()\n",
    "model.add(layers.Conv2D(32, (3, 3), activation='relu', input_shape=(28, 28, 1)))\n",
    "model.add(layers.MaxPooling2D((2, 2)))\n",
    "model.add(layers.Conv2D(64, (3, 3), activation='relu'))\n",
    "model.add(layers.MaxPooling2D((2, 2)))\n",
    "model.add(layers.Conv2D(64, (3, 3), activation='relu'))"
   ]
  },
  {
   "cell_type": "code",
   "execution_count": 15,
   "metadata": {},
   "outputs": [
    {
     "name": "stdout",
     "output_type": "stream",
     "text": [
      "_________________________________________________________________\n",
      "Layer (type)                 Output Shape              Param #   \n",
      "=================================================================\n",
      "conv2d_6 (Conv2D)            (None, 26, 26, 32)        320       \n",
      "_________________________________________________________________\n",
      "max_pooling2d_4 (MaxPooling2 (None, 13, 13, 32)        0         \n",
      "_________________________________________________________________\n",
      "conv2d_7 (Conv2D)            (None, 11, 11, 64)        18496     \n",
      "_________________________________________________________________\n",
      "max_pooling2d_5 (MaxPooling2 (None, 5, 5, 64)          0         \n",
      "_________________________________________________________________\n",
      "conv2d_8 (Conv2D)            (None, 3, 3, 64)          36928     \n",
      "=================================================================\n",
      "Total params: 55,744\n",
      "Trainable params: 55,744\n",
      "Non-trainable params: 0\n",
      "_________________________________________________________________\n"
     ]
    }
   ],
   "source": [
    "model.summary()\n"
   ]
  },
  {
   "cell_type": "code",
   "execution_count": 17,
   "metadata": {},
   "outputs": [],
   "source": [
    "model.add(layers.Flatten())\n",
    "model.add(layers.Dense(64, activation='relu'))\n",
    "model.add(layers.Dense(10, activation='softmax'))"
   ]
  },
  {
   "cell_type": "code",
   "execution_count": 18,
   "metadata": {},
   "outputs": [
    {
     "name": "stdout",
     "output_type": "stream",
     "text": [
      "_________________________________________________________________\n",
      "Layer (type)                 Output Shape              Param #   \n",
      "=================================================================\n",
      "conv2d_6 (Conv2D)            (None, 26, 26, 32)        320       \n",
      "_________________________________________________________________\n",
      "max_pooling2d_4 (MaxPooling2 (None, 13, 13, 32)        0         \n",
      "_________________________________________________________________\n",
      "conv2d_7 (Conv2D)            (None, 11, 11, 64)        18496     \n",
      "_________________________________________________________________\n",
      "max_pooling2d_5 (MaxPooling2 (None, 5, 5, 64)          0         \n",
      "_________________________________________________________________\n",
      "conv2d_8 (Conv2D)            (None, 3, 3, 64)          36928     \n",
      "_________________________________________________________________\n",
      "flatten_1 (Flatten)          (None, 576)               0         \n",
      "_________________________________________________________________\n",
      "dense_2 (Dense)              (None, 64)                36928     \n",
      "_________________________________________________________________\n",
      "dense_3 (Dense)              (None, 10)                650       \n",
      "=================================================================\n",
      "WARNING:tensorflow:Discrepancy between trainable weights and collected trainable weights, did you set `model.trainable` without calling `model.compile` after ?\n",
      "Total params: 55,744\n",
      "Trainable params: 55,744\n",
      "Non-trainable params: 0\n",
      "_________________________________________________________________\n"
     ]
    }
   ],
   "source": [
    "model.summary()\n"
   ]
  },
  {
   "cell_type": "code",
   "execution_count": 19,
   "metadata": {
    "scrolled": true
   },
   "outputs": [
    {
     "name": "stdout",
     "output_type": "stream",
     "text": [
      "Epoch 1/5\n",
      " 2400/60000 [>.............................] - ETA: 3:03 - loss: 1.0760 - acc: 0.6562"
     ]
    },
    {
     "name": "stderr",
     "output_type": "stream",
     "text": [
      "WARNING: some intermediate output was truncated.\n",
      "WARNING: some intermediate output was truncated.\n",
      "WARNING: 1 intermediate output message was discarded.\n"
     ]
    },
    {
     "name": "stdout",
     "output_type": "stream",
     "text": [
      "60000/60000 [==============================] - 134s 2ms/step - loss: 0.0197 - acc: 0.9940\n"
     ]
    },
    {
     "data": {
      "text/plain": [
       "<tensorflow.python.keras.callbacks.History at 0x7f81c7fbb1d0>"
      ]
     },
     "execution_count": 19,
     "metadata": {},
     "output_type": "execute_result"
    },
    {
     "name": "stderr",
     "output_type": "stream",
     "text": [
      "WARNING: 5980 intermediate output messages were discarded.\n",
      "WARNING: some intermediate output was truncated.\n",
      "WARNING: 62 intermediate output messages were discarded.\n",
      "WARNING: some intermediate output was truncated.\n",
      "WARNING: 1 intermediate output message was discarded.\n",
      "WARNING: some intermediate output was truncated.\n",
      "WARNING: 3 intermediate output messages were discarded.\n",
      "WARNING: some intermediate output was truncated.\n",
      "WARNING: 3 intermediate output messages were discarded.\n",
      "WARNING: some intermediate output was truncated.\n",
      "WARNING: 3 intermediate output messages were discarded.\n",
      "WARNING: 1 intermediate output message was discarded.\n",
      "WARNING: some intermediate output was truncated.\n",
      "WARNING: 3 intermediate output messages were discarded.\n",
      "WARNING: 1 intermediate output message was discarded.\n",
      "WARNING: some intermediate output was truncated.\n",
      "WARNING: 3 intermediate output messages were discarded.\n",
      "WARNING: 1 intermediate output message was discarded.\n",
      "WARNING: some intermediate output was truncated.\n",
      "WARNING: 3 intermediate output messages were discarded.\n",
      "WARNING: 1 intermediate output message was discarded.\n",
      "WARNING: some intermediate output was truncated.\n"
     ]
    }
   ],
   "source": [
    "model.compile(optimizer='adam',\n",
    "              loss='sparse_categorical_crossentropy',\n",
    "              metrics=['accuracy'])\n",
    "\n",
    "model.fit(train_images, train_labels, epochs=5)"
   ]
  },
  {
   "cell_type": "code",
   "execution_count": 23,
   "metadata": {},
   "outputs": [
    {
     "data": {
      "text/plain": [
       "array([7])"
      ]
     },
     "execution_count": 23,
     "metadata": {},
     "output_type": "execute_result"
    }
   ],
   "source": [
    "model.predict_classes(np.array([test_images[0]]))"
   ]
  },
  {
   "cell_type": "code",
   "execution_count": 24,
   "metadata": {},
   "outputs": [
    {
     "data": {
      "text/plain": [
       "7"
      ]
     },
     "execution_count": 24,
     "metadata": {},
     "output_type": "execute_result"
    }
   ],
   "source": [
    "test_labels[0]"
   ]
  },
  {
   "cell_type": "code",
   "execution_count": 28,
   "metadata": {},
   "outputs": [
    {
     "data": {
      "text/plain": [
       "<matplotlib.image.AxesImage at 0x7f81a16e6a50>"
      ]
     },
     "execution_count": 28,
     "metadata": {},
     "output_type": "execute_result"
    },
    {
     "data": {
      "image/png": "[encoded data removed]",
      "text/plain": [
       "<matplotlib.figure.Figure at 0x7f81a1798790>"
      ]
     },
     "execution_count": 28,
     "metadata": {
      "image/png": {
       "height": 250,
       "width": 253
      }
     },
     "output_type": "execute_result"
    }
   ],
   "source": [
    "import matplotlib.pyplot as plt\n",
    "plt.imshow(test_images[0][:,:,0])"
   ]
  },
  {
   "cell_type": "code",
   "execution_count": 0,
   "metadata": {},
   "outputs": [],
   "source": []
  }
 ],
 "metadata": {
  "kernelspec": {
   "display_name": "Python 2",
   "language": "python",
   "name": "python2"
  },
  "language_info": {
   "codemirror_mode": {
    "name": "ipython",
    "version": 2
   },
   "file_extension": ".py",
   "mimetype": "text/x-python",
   "name": "python",
   "nbconvert_exporter": "python",
   "pygments_lexer": "ipython2",
   "version": "2.7.16"
  }
 },
 "nbformat": 4,
 "nbformat_minor": 1
}
