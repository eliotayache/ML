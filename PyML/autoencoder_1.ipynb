{
 "cells": [
  {
   "cell_type": "markdown",
   "metadata": {},
   "source": [
    "#A simple autoencoder test\n",
    "Bottleneck consists of a single number, which determines the fraction of the image covered in black squares"
   ]
  },
  {
   "cell_type": "code",
   "execution_count": 243,
   "metadata": {},
   "outputs": [],
   "source": [
    "import numpy as np\n",
    "\n",
    "import tensorflow as tf\n",
    "from tensorflow.keras import datasets, layers, models\n",
    "\n",
    "from matplotlib import pyplot as plt"
   ]
  },
  {
   "cell_type": "code",
   "execution_count": 143,
   "metadata": {},
   "outputs": [],
   "source": [
    "# Decoder goes here\n",
    "N_image = 28 # Size of (square) input image\n",
    "\n",
    "def regions(x):\n",
    "    # x represents the fraction of the image full of ones\n",
    "    img = np.zeros(N_image*N_image).reshape(N_image,N_image) - 1\n",
    "    Q = int(np.floor(x*N_image))\n",
    "    img[:,0:Q] = 1\n",
    "    return img"
   ]
  },
  {
   "cell_type": "code",
   "execution_count": 144,
   "metadata": {},
   "outputs": [
    {
     "name": "stdout",
     "output_type": "stream",
     "text": [
      "[ 1.  1.  1.  1.  1.  1.  1.  1. -1. -1. -1. -1. -1. -1. -1. -1. -1. -1.\n",
      " -1. -1. -1. -1. -1. -1. -1. -1. -1. -1.]\n"
     ]
    },
    {
     "data": {
      "image/png": "[encoded data removed]",
      "text/plain": [
       "<Figure size 432x288 with 1 Axes>"
      ]
     },
     "metadata": {
      "needs_background": "light"
     },
     "output_type": "display_data"
    }
   ],
   "source": [
    "# And here's a test to see that the decoder does what we expect:\n",
    "plt.imshow(regions(0.3))\n",
    "print regions(0.3)[int(N_image/2),:]"
   ]
  },
  {
   "cell_type": "code",
   "execution_count": 369,
   "metadata": {},
   "outputs": [],
   "source": [
    "#Making dataset\n",
    "N_train = 1000\n",
    "noise = 0.3\n",
    "\n",
    "train_images = []\n",
    "train_labels = []\n",
    "for i in range(N_train):\n",
    "    x = np.random.uniform()\n",
    "    train_labels.append(np.int(np.round(x,1)*10))\n",
    "    img = regions(x) + np.random.normal(0,noise,N_image*N_image).reshape(N_image,N_image)\n",
    "    train_images.append(img)\n",
    "\n",
    "train_images = np.array(train_images)\n",
    "train_images_transposed = np.array([img.transpose() for img in train_images])\n",
    "train_images = np.concatenate((train_images, train_images_transposed))\n",
    "train_images = train_images.reshape(2*N_train,N_image,N_image,1)\n",
    "train_labels = np.array(train_labels)"
   ]
  },
  {
   "cell_type": "code",
   "execution_count": 370,
   "metadata": {},
   "outputs": [
    {
     "name": "stdout",
     "output_type": "stream",
     "text": [
      "(2000, 28, 28, 1)\n"
     ]
    }
   ],
   "source": [
    "print train_images.shape"
   ]
  },
  {
   "cell_type": "code",
   "execution_count": 372,
   "metadata": {},
   "outputs": [
    {
     "data": {
      "image/png": "[encoded data removed]",
      "text/plain": [
       "<Figure size 432x288 with 1 Axes>"
      ]
     },
     "metadata": {
      "needs_background": "light"
     },
     "output_type": "display_data"
    },
    {
     "name": "stdout",
     "output_type": "stream",
     "text": [
      "[ 0.77633928  0.74184599  0.91053114  1.02819374  1.19723194  1.29918945\n",
      "  0.97380538  0.89009095  1.31965468 -1.17309843 -0.99541003 -1.37670462\n",
      " -1.42073861 -0.85120618 -0.77210982 -1.20943599 -1.28367486 -1.25158614\n",
      " -0.82238067 -1.42533891 -0.89180195 -1.00864249 -0.86482012 -1.20694353\n",
      " -0.59576728 -0.86027709 -1.32376012 -1.1597587 ]\n"
     ]
    }
   ],
   "source": [
    "# And here's a test to check that the training images are reasonable:\n",
    "plt.imshow(train_images[7,:,:,0])\n",
    "plt.show()\n",
    "print train_images[3,int(N_image/2),:,0]"
   ]
  },
  {
   "cell_type": "code",
   "execution_count": 373,
   "metadata": {},
   "outputs": [
    {
     "data": {
      "image/png": "[encoded data removed]",
      "text/plain": [
       "<Figure size 432x288 with 1 Axes>"
      ]
     },
     "metadata": {
      "needs_background": "light"
     },
     "output_type": "display_data"
    },
    {
     "name": "stdout",
     "output_type": "stream",
     "text": [
      "[ 0.4196417   0.36745329  0.34495527  0.30926312  0.27923288  0.24961944\n",
      "  0.22226502  0.17734917  0.13923592  0.08893427  0.04873177  0.03207957\n",
      " -0.01450044 -0.04912959 -0.0851174  -0.12690735 -0.15923734 -0.2216594\n",
      " -0.2365973  -0.26769158 -0.30605794 -0.34083771 -0.37954426 -0.40700074\n",
      " -0.44410396 -0.47821758 -0.5284403  -0.54516449]\n"
     ]
    }
   ],
   "source": [
    "mean_image = np.mean(train_images,axis=0)[:,:,0]\n",
    "plt.imshow(mean_image)\n",
    "plt.show()\n",
    "print mean_image[int(N_image/2),:]"
   ]
  },
  {
   "cell_type": "code",
   "execution_count": 374,
   "metadata": {},
   "outputs": [],
   "source": [
    "from __future__ import division\n",
    "\n",
    "def normalize_meanstd(a, axis=None):\n",
    "    # axis param denotes axes along which mean & std reductions are to be performed\n",
    "    mean = np.mean(a, axis=axis, keepdims=True)\n",
    "    std = np.sqrt(((a - mean)**2).mean(axis=axis, keepdims=True))\n",
    "    return (a - mean) / std, mean, std\n",
    "\n",
    "train_images_std, mean, std = normalize_meanstd(train_images, axis=(1,2))"
   ]
  },
  {
   "cell_type": "code",
   "execution_count": 375,
   "metadata": {},
   "outputs": [],
   "source": [
    "#Lambda Layer (Decoder)\n",
    "def make_regions(x):\n",
    "    img = tf.to_float(tf.convert_to_tensor(np.repeat(np.arange(N_image),N_image).reshape(N_image,N_image)))\n",
    "    #np.zeros(N_image*N_image).reshape(N_image,N_image)\n",
    "    #Q = tf.math.int(tf.math.floor(x*N_image))#int(np.floor(x*N_image))\n",
    "    #condi = tf.math.greater(img, x)\n",
    "    unity = tf.convert_to_tensor(np.repeat(1., N_image*N_image).reshape(N_image, N_image))\n",
    "    zeros = tf.convert_to_tensor(np.zeros(N_image*N_image).reshape(N_image, N_image))\n",
    "    tf.where(img > x, unity, zeros)\n",
    "    return img"
   ]
  },
  {
   "cell_type": "code",
   "execution_count": 448,
   "metadata": {},
   "outputs": [
    {
     "name": "stdout",
     "output_type": "stream",
     "text": [
      "Model: \"sequential_41\"\n",
      "_________________________________________________________________\n",
      "Layer (type)                 Output Shape              Param #   \n",
      "=================================================================\n",
      "conv2d_196 (Conv2D)          (None, 28, 28, 32)        320       \n",
      "_________________________________________________________________\n",
      "max_pooling2d_78 (MaxPooling (None, 14, 14, 32)        0         \n",
      "_________________________________________________________________\n",
      "conv2d_197 (Conv2D)          (None, 14, 14, 64)        18496     \n",
      "_________________________________________________________________\n",
      "max_pooling2d_79 (MaxPooling (None, 7, 7, 64)          0         \n",
      "_________________________________________________________________\n",
      "conv2d_198 (Conv2D)          (None, 7, 7, 64)          36928     \n",
      "_________________________________________________________________\n",
      "flatten_22 (Flatten)         (None, 3136)              0         \n",
      "_________________________________________________________________\n",
      "dense_35 (Dense)             (None, 128)               401536    \n",
      "_________________________________________________________________\n",
      "dense_36 (Dense)             (None, 3136)              404544    \n",
      "_________________________________________________________________\n",
      "reshape_9 (Reshape)          (None, 7, 7, 64)          0         \n",
      "_________________________________________________________________\n",
      "conv2d_199 (Conv2D)          (None, 7, 7, 64)          36928     \n",
      "_________________________________________________________________\n",
      "up_sampling2d_50 (UpSampling (None, 14, 14, 64)        0         \n",
      "_________________________________________________________________\n",
      "conv2d_200 (Conv2D)          (None, 14, 14, 64)        36928     \n",
      "_________________________________________________________________\n",
      "up_sampling2d_51 (UpSampling (None, 28, 28, 64)        0         \n",
      "_________________________________________________________________\n",
      "conv2d_201 (Conv2D)          (None, 28, 28, 1)         577       \n",
      "=================================================================\n",
      "Total params: 936,257\n",
      "Trainable params: 936,257\n",
      "Non-trainable params: 0\n",
      "_________________________________________________________________\n"
     ]
    }
   ],
   "source": [
    "model = models.Sequential()\n",
    "filt_size = 3\n",
    "fs = filt_size\n",
    "model.add(layers.Conv2D(32, (fs, fs), activation='relu', padding=\"same\", input_shape = (N_image,N_image,1),strides=(1,1)))\n",
    "model.add(layers.MaxPooling2D((2, 2)))\n",
    "model.add(layers.Conv2D(64, (fs, fs), activation='relu', padding=\"same\"))\n",
    "model.add(layers.MaxPooling2D((2, 2)))\n",
    "model.add(layers.Conv2D(64, (fs, fs), activation='relu', padding=\"same\"))\n",
    "\n",
    "model.add(layers.Flatten())\n",
    "model.add(layers.Dense(128, activation='relu'))\n",
    "model.add(layers.Dense(3136, activation='relu'))\n",
    "model.add(layers.Reshape((7, 7, 64)))\n",
    "\n",
    "model.add(layers.Conv2D(64, (fs, fs), activation='relu', padding=\"same\"))\n",
    "model.add(layers.UpSampling2D((2, 2)))\n",
    "model.add(layers.Conv2D(64, (fs, fs), activation='relu', padding=\"same\"))\n",
    "model.add(layers.UpSampling2D((2, 2)))\n",
    "model.add(layers.Conv2D(1, (fs, fs), activation='sigmoid', padding=\"same\"))\n",
    "\n",
    "#model.add(layers.Flatten())\n",
    "#model.add(layers.Dense(64, activation='relu'))\n",
    "#model.add(layers.Dense(1))\n",
    "#model.add(layers.Lambda(make_regions))\n",
    "model.summary()"
   ]
  },
  {
   "cell_type": "code",
   "execution_count": 449,
   "metadata": {},
   "outputs": [],
   "source": [
    "model.compile(optimizer='RMSprop',\n",
    "              loss='mean_squared_error',\n",
    "              metrics=['accuracy']\n",
    "             )\n",
    "#model.compile(optimizer='adam',\n",
    "#              loss='sparse_categorical_crossentropy',\n",
    "#              metrics=['accuracy'])\n"
   ]
  },
  {
   "cell_type": "code",
   "execution_count": 450,
   "metadata": {},
   "outputs": [
    {
     "name": "stdout",
     "output_type": "stream",
     "text": [
      "Epoch 1/5\n",
      "2000/2000 [==============================] - 3s 2ms/sample - loss: 0.7772 - acc: 0.0000e+00\n",
      "Epoch 2/5\n",
      "2000/2000 [==============================] - 3s 2ms/sample - loss: 0.6629 - acc: 0.0000e+00\n",
      "Epoch 3/5\n",
      "2000/2000 [==============================] - 3s 2ms/sample - loss: 0.6482 - acc: 0.0000e+00 0s - loss: 0.6466 - acc: 0.0000\n",
      "Epoch 4/5\n",
      "2000/2000 [==============================] - 3s 2ms/sample - loss: 0.6433 - acc: 0.0000e+00\n",
      "Epoch 5/5\n",
      "2000/2000 [==============================] - 3s 2ms/sample - loss: 0.6380 - acc: 0.0000e+00\n"
     ]
    },
    {
     "data": {
      "text/plain": [
       "<tensorflow.python.keras.callbacks.History at 0x7fa213cf0390>"
      ]
     },
     "execution_count": 450,
     "metadata": {},
     "output_type": "execute_result"
    }
   ],
   "source": [
    "model.fit(train_images, train_images, epochs=5)\n",
    "#model.fit(train_images, train_labels/10., epochs=5)"
   ]
  },
  {
   "cell_type": "code",
   "execution_count": 451,
   "metadata": {},
   "outputs": [],
   "source": [
    "test_img = regions(0.7).reshape(28,28,1)# + np.random.normal(0,noise,N_image*N_image).reshape(N_image,N_image,1)\n",
    "#test_img = test_img[:,:,0].transpose().reshape(28,28,1)\n",
    "out = model.predict(np.array([test_img]))"
   ]
  },
  {
   "cell_type": "code",
   "execution_count": 452,
   "metadata": {},
   "outputs": [
    {
     "data": {
      "image/png": "[encoded data removed]",
      "text/plain": [
       "<Figure size 432x288 with 1 Axes>"
      ]
     },
     "metadata": {
      "needs_background": "light"
     },
     "output_type": "display_data"
    },
    {
     "name": "stdout",
     "output_type": "stream",
     "text": [
      "[ 1.  1.  1.  1.  1.  1.  1.  1.  1.  1.  1.  1.  1.  1.  1.  1.  1.  1.\n",
      "  1. -1. -1. -1. -1. -1. -1. -1. -1. -1.]\n"
     ]
    }
   ],
   "source": [
    "plt.imshow(test_img[:,:,0])\n",
    "plt.show()\n",
    "print test_img[0,:,0]"
   ]
  },
  {
   "cell_type": "code",
   "execution_count": 453,
   "metadata": {},
   "outputs": [
    {
     "data": {
      "image/png": "[encoded data removed]",
      "text/plain": [
       "<Figure size 432x288 with 1 Axes>"
      ]
     },
     "metadata": {
      "needs_background": "light"
     },
     "output_type": "display_data"
    },
    {
     "name": "stdout",
     "output_type": "stream",
     "text": [
      "[9.9999988e-01 1.0000000e+00 1.0000000e+00 1.0000000e+00 1.0000000e+00\n",
      " 1.0000000e+00 1.0000000e+00 1.0000000e+00 1.0000000e+00 1.0000000e+00\n",
      " 1.0000000e+00 1.0000000e+00 1.0000000e+00 1.0000000e+00 1.0000000e+00\n",
      " 9.9999869e-01 9.9999237e-01 9.9770725e-01 5.3272110e-01 6.0382485e-04\n",
      " 5.9604645e-08 0.0000000e+00 0.0000000e+00 0.0000000e+00 0.0000000e+00\n",
      " 0.0000000e+00 0.0000000e+00 0.0000000e+00]\n"
     ]
    }
   ],
   "source": [
    "plt.imshow(out[0,:,:,0])\n",
    "plt.show()\n",
    "print out[0,15,:,0]\n",
    "#print out"
   ]
  },
  {
   "cell_type": "code",
   "execution_count": 459,
   "metadata": {},
   "outputs": [
    {
     "name": "stdout",
     "output_type": "stream",
     "text": [
      "(3136, 128)\n"
     ]
    }
   ],
   "source": [
    "w = model.get_weights()\n",
    "warr = np.array(w)\n",
    "print warr[6].shape"
   ]
  },
  {
   "cell_type": "code",
   "execution_count": 467,
   "metadata": {},
   "outputs": [
    {
     "data": {
      "text/plain": [
       "(array([3.0000e+00, 2.0000e+01, 6.1000e+01, 1.9000e+02, 4.7300e+02,\n",
       "        1.0790e+03, 2.2300e+03, 4.6000e+03, 2.2408e+04, 3.7023e+04,\n",
       "        3.9466e+04, 4.0817e+04, 4.1782e+04, 4.1852e+04, 4.1380e+04,\n",
       "        4.0576e+04, 3.8799e+04, 3.2263e+04, 9.0460e+03, 3.7440e+03,\n",
       "        1.9280e+03, 8.9200e+02, 4.2500e+02, 1.7400e+02, 9.4000e+01,\n",
       "        4.7000e+01, 2.5000e+01, 6.0000e+00, 3.0000e+00, 2.0000e+00]),\n",
       " array([-0.1209149 , -0.11188992, -0.10286494, -0.09383997, -0.08481499,\n",
       "        -0.07579001, -0.06676503, -0.05774006, -0.04871508, -0.0396901 ,\n",
       "        -0.03066512, -0.02164015, -0.01261517, -0.00359019,  0.00543479,\n",
       "         0.01445976,  0.02348474,  0.03250972,  0.0415347 ,  0.05055967,\n",
       "         0.05958465,  0.06860963,  0.0776346 ,  0.08665958,  0.09568456,\n",
       "         0.10470954,  0.11373451,  0.12275949,  0.13178447,  0.14080945,\n",
       "         0.14983442], dtype=float32),\n",
       " <a list of 30 Patch objects>)"
      ]
     },
     "execution_count": 467,
     "metadata": {},
     "output_type": "execute_result"
    },
    {
     "data": {
      "image/png": "[encoded data removed]",
      "text/plain": [
       "<Figure size 432x288 with 1 Axes>"
      ]
     },
     "metadata": {
      "needs_background": "light"
     },
     "output_type": "display_data"
    }
   ],
   "source": [
    "#plt.imshow(warr[6],aspect='auto')\n",
    "plt.hist(warr[6].reshape(-1),bins=30)"
   ]
  },
  {
   "cell_type": "code",
   "execution_count": 456,
   "metadata": {},
   "outputs": [
    {
     "ename": "IndexError",
     "evalue": "too many indices for array",
     "output_type": "error",
     "traceback": [
      "\u001b[0;31m---------------------------------------------------------------------------\u001b[0m",
      "\u001b[0;31mIndexError\u001b[0m                                Traceback (most recent call last)",
      "\u001b[0;32m<ipython-input-456-bf0e96bfbef4>\u001b[0m in \u001b[0;36m<module>\u001b[0;34m()\u001b[0m\n\u001b[1;32m      1\u001b[0m \u001b[0;32mfor\u001b[0m \u001b[0mi\u001b[0m \u001b[0;32min\u001b[0m \u001b[0mnp\u001b[0m\u001b[0;34m.\u001b[0m\u001b[0marange\u001b[0m\u001b[0;34m(\u001b[0m\u001b[0;36m64\u001b[0m\u001b[0;34m)\u001b[0m\u001b[0;34m:\u001b[0m\u001b[0;34m\u001b[0m\u001b[0m\n\u001b[0;32m----> 2\u001b[0;31m     \u001b[0mplt\u001b[0m\u001b[0;34m.\u001b[0m\u001b[0mimshow\u001b[0m\u001b[0;34m(\u001b[0m\u001b[0mw\u001b[0m\u001b[0;34m[\u001b[0m\u001b[0;36m6\u001b[0m\u001b[0;34m]\u001b[0m\u001b[0;34m[\u001b[0m\u001b[0;34m:\u001b[0m\u001b[0;34m,\u001b[0m\u001b[0;34m:\u001b[0m\u001b[0;34m,\u001b[0m\u001b[0;36m0\u001b[0m\u001b[0;34m,\u001b[0m\u001b[0mi\u001b[0m\u001b[0;34m]\u001b[0m\u001b[0;34m)\u001b[0m\u001b[0;34m\u001b[0m\u001b[0m\n\u001b[0m\u001b[1;32m      3\u001b[0m     \u001b[0;31m#plt.imshow(np.random.uniform(-1,1,9*9).reshape(9,9))\u001b[0m\u001b[0;34m\u001b[0m\u001b[0;34m\u001b[0m\u001b[0m\n\u001b[1;32m      4\u001b[0m     \u001b[0mplt\u001b[0m\u001b[0;34m.\u001b[0m\u001b[0mshow\u001b[0m\u001b[0;34m(\u001b[0m\u001b[0;34m)\u001b[0m\u001b[0;34m\u001b[0m\u001b[0m\n",
      "\u001b[0;31mIndexError\u001b[0m: too many indices for array"
     ]
    }
   ],
   "source": [
    "for i in np.arange(64):    \n",
    "    plt.imshow(w[2][:,:,0,i])\n",
    "    #plt.imshow(np.random.uniform(-1,1,9*9).reshape(9,9))\n",
    "    plt.show()"
   ]
  },
  {
   "cell_type": "code",
   "execution_count": 191,
   "metadata": {},
   "outputs": [],
   "source": [
    "#Lambda Layer (Decoder) (TL's copy):\n",
    "def make_regions(x):\n",
    "    x_int = x[1]\n",
    "    print x, tf.to_float(x_int)\n",
    "    img = np.zeros(N_image*N_image).reshape(N_image,N_image)\n",
    "    Q = int(np.floor(x_int*N_image))\n",
    "    img[:,0:Q] = 1\n",
    "    return img\n",
    "\n",
    "model = models.Sequential()\n",
    "model.add(layers.Conv2D(32, (3, 3), activation='relu', input_shape=(28, 28, 1)))\n",
    "model.add(layers.MaxPooling2D((2, 2)))\n",
    "model.add(layers.Conv2D(64, (3, 3), activation='relu'))\n",
    "model.add(layers.MaxPooling2D((2, 2)))\n",
    "model.add(layers.Conv2D(64, (3, 3), activation='relu'))\n",
    "model.add(layers.Flatten())\n",
    "model.add(layers.Dense(64, activation='relu'))\n",
    "model.add(layers.Dense(1, activation='softmax'))\n",
    "model.add(layers.Lambda(make_regions))"
   ]
  },
  {
   "cell_type": "code",
   "execution_count": 70,
   "metadata": {},
   "outputs": [
    {
     "name": "stdout",
     "output_type": "stream",
     "text": [
      "_________________________________________________________________\n",
      "Layer (type)                 Output Shape              Param #   \n",
      "=================================================================\n",
      "conv2d_6 (Conv2D)            (None, 26, 26, 32)        320       \n",
      "_________________________________________________________________\n",
      "max_pooling2d_4 (MaxPooling2 (None, 13, 13, 32)        0         \n",
      "_________________________________________________________________\n",
      "conv2d_7 (Conv2D)            (None, 11, 11, 64)        18496     \n",
      "_________________________________________________________________\n",
      "max_pooling2d_5 (MaxPooling2 (None, 5, 5, 64)          0         \n",
      "_________________________________________________________________\n",
      "conv2d_8 (Conv2D)            (None, 3, 3, 64)          36928     \n",
      "_________________________________________________________________\n",
      "flatten_2 (Flatten)          (None, 576)               0         \n",
      "_________________________________________________________________\n",
      "dense_4 (Dense)              (None, 64)                36928     \n",
      "_________________________________________________________________\n",
      "dense_5 (Dense)              (None, 1)                 65        \n",
      "=================================================================\n",
      "Total params: 92,737\n",
      "Trainable params: 92,737\n",
      "Non-trainable params: 0\n",
      "_________________________________________________________________\n"
     ]
    }
   ],
   "source": [
    "model.summary()"
   ]
  },
  {
   "cell_type": "code",
   "execution_count": 5,
   "metadata": {},
   "outputs": [],
   "source": [
    "# Here's the mnist train data, for reference:\n",
    "\n",
    "#mnist_data = np.load('mnist.npz')\n",
    "#(train_images, train_labels), (test_images, test_labels) = (mnist_data['x_train'], mnist_data['y_train']), (mnist_data['x_test'], mnist_data['y_test'])"
   ]
  },
  {
   "cell_type": "code",
   "execution_count": 6,
   "metadata": {},
   "outputs": [],
   "source": [
    "train_images = train_images.reshape((60000, 28, 28, 1))\n",
    "test_images = test_images.reshape((10000, 28, 28, 1))\n",
    "\n",
    "# Normalize pixel values to be between 0 and 1\n",
    "train_images, test_images = train_images / 255.0, test_images / 255.0\n"
   ]
  },
  {
   "cell_type": "code",
   "execution_count": 66,
   "metadata": {},
   "outputs": [],
   "source": [
    "model = models.Sequential()\n",
    "model.add(layers.Conv2D(32, (3, 3), activation='relu', input_shape=(28, 28, 1)))\n",
    "model.add(layers.MaxPooling2D((2, 2)))\n",
    "model.add(layers.Conv2D(64, (3, 3), activation='relu'))\n",
    "model.add(layers.MaxPooling2D((2, 2)))\n",
    "model.add(layers.Conv2D(64, (3, 3), activation='relu'))"
   ]
  },
  {
   "cell_type": "code",
   "execution_count": 15,
   "metadata": {},
   "outputs": [
    {
     "name": "stdout",
     "output_type": "stream",
     "text": [
      "_________________________________________________________________\n",
      "Layer (type)                 Output Shape              Param #   \n",
      "=================================================================\n",
      "conv2d_6 (Conv2D)            (None, 26, 26, 32)        320       \n",
      "_________________________________________________________________\n",
      "max_pooling2d_4 (MaxPooling2 (None, 13, 13, 32)        0         \n",
      "_________________________________________________________________\n",
      "conv2d_7 (Conv2D)            (None, 11, 11, 64)        18496     \n",
      "_________________________________________________________________\n",
      "max_pooling2d_5 (MaxPooling2 (None, 5, 5, 64)          0         \n",
      "_________________________________________________________________\n",
      "conv2d_8 (Conv2D)            (None, 3, 3, 64)          36928     \n",
      "=================================================================\n",
      "Total params: 55,744\n",
      "Trainable params: 55,744\n",
      "Non-trainable params: 0\n",
      "_________________________________________________________________\n"
     ]
    }
   ],
   "source": [
    "model.summary()\n"
   ]
  },
  {
   "cell_type": "code",
   "execution_count": 17,
   "metadata": {},
   "outputs": [],
   "source": [
    "model.add(layers.Flatten())\n",
    "model.add(layers.Dense(64, activation='relu'))\n",
    "model.add(layers.Dense(10, activation='softmax'))"
   ]
  },
  {
   "cell_type": "code",
   "execution_count": 18,
   "metadata": {},
   "outputs": [
    {
     "name": "stdout",
     "output_type": "stream",
     "text": [
      "_________________________________________________________________\n",
      "Layer (type)                 Output Shape              Param #   \n",
      "=================================================================\n",
      "conv2d_6 (Conv2D)            (None, 26, 26, 32)        320       \n",
      "_________________________________________________________________\n",
      "max_pooling2d_4 (MaxPooling2 (None, 13, 13, 32)        0         \n",
      "_________________________________________________________________\n",
      "conv2d_7 (Conv2D)            (None, 11, 11, 64)        18496     \n",
      "_________________________________________________________________\n",
      "max_pooling2d_5 (MaxPooling2 (None, 5, 5, 64)          0         \n",
      "_________________________________________________________________\n",
      "conv2d_8 (Conv2D)            (None, 3, 3, 64)          36928     \n",
      "_________________________________________________________________\n",
      "flatten_1 (Flatten)          (None, 576)               0         \n",
      "_________________________________________________________________\n",
      "dense_2 (Dense)              (None, 64)                36928     \n",
      "_________________________________________________________________\n",
      "dense_3 (Dense)              (None, 10)                650       \n",
      "=================================================================\n",
      "WARNING:tensorflow:Discrepancy between trainable weights and collected trainable weights, did you set `model.trainable` without calling `model.compile` after ?\n",
      "Total params: 55,744\n",
      "Trainable params: 55,744\n",
      "Non-trainable params: 0\n",
      "_________________________________________________________________\n"
     ]
    }
   ],
   "source": [
    "model.summary()\n"
   ]
  },
  {
   "cell_type": "code",
   "execution_count": 19,
   "metadata": {
    "scrolled": true
   },
   "outputs": [
    {
     "name": "stdout",
     "output_type": "stream",
     "text": [
      "Epoch 1/5\n",
      " 2400/60000 [>.............................] - ETA: 3:03 - loss: 1.0760 - acc: 0.6562"
     ]
    },
    {
     "name": "stderr",
     "output_type": "stream",
     "text": [
      "WARNING: some intermediate output was truncated.\n",
      "WARNING: some intermediate output was truncated.\n",
      "WARNING: 1 intermediate output message was discarded.\n"
     ]
    },
    {
     "name": "stdout",
     "output_type": "stream",
     "text": [
      "60000/60000 [==============================] - 134s 2ms/step - loss: 0.0197 - acc: 0.9940\n"
     ]
    },
    {
     "data": {
      "text/plain": [
       "<tensorflow.python.keras.callbacks.History at 0x7f81c7fbb1d0>"
      ]
     },
     "execution_count": 19,
     "metadata": {},
     "output_type": "execute_result"
    },
    {
     "name": "stderr",
     "output_type": "stream",
     "text": [
      "WARNING: 5980 intermediate output messages were discarded.\n",
      "WARNING: some intermediate output was truncated.\n",
      "WARNING: 62 intermediate output messages were discarded.\n",
      "WARNING: some intermediate output was truncated.\n",
      "WARNING: 1 intermediate output message was discarded.\n",
      "WARNING: some intermediate output was truncated.\n",
      "WARNING: 3 intermediate output messages were discarded.\n",
      "WARNING: some intermediate output was truncated.\n",
      "WARNING: 3 intermediate output messages were discarded.\n",
      "WARNING: some intermediate output was truncated.\n",
      "WARNING: 3 intermediate output messages were discarded.\n",
      "WARNING: 1 intermediate output message was discarded.\n",
      "WARNING: some intermediate output was truncated.\n",
      "WARNING: 3 intermediate output messages were discarded.\n",
      "WARNING: 1 intermediate output message was discarded.\n",
      "WARNING: some intermediate output was truncated.\n",
      "WARNING: 3 intermediate output messages were discarded.\n",
      "WARNING: 1 intermediate output message was discarded.\n",
      "WARNING: some intermediate output was truncated.\n",
      "WARNING: 3 intermediate output messages were discarded.\n",
      "WARNING: 1 intermediate output message was discarded.\n",
      "WARNING: some intermediate output was truncated.\n"
     ]
    }
   ],
   "source": [
    "model.compile(optimizer='adam',\n",
    "              loss='sparse_categorical_crossentropy',\n",
    "              metrics=['accuracy'])\n",
    "\n",
    "model.fit(train_images, train_labels, epochs=5)"
   ]
  },
  {
   "cell_type": "code",
   "execution_count": 23,
   "metadata": {},
   "outputs": [
    {
     "data": {
      "text/plain": [
       "array([7])"
      ]
     },
     "execution_count": 23,
     "metadata": {},
     "output_type": "execute_result"
    }
   ],
   "source": [
    "model.predict_classes(np.array([test_images[0]]))"
   ]
  },
  {
   "cell_type": "code",
   "execution_count": 24,
   "metadata": {},
   "outputs": [
    {
     "data": {
      "text/plain": [
       "7"
      ]
     },
     "execution_count": 24,
     "metadata": {},
     "output_type": "execute_result"
    }
   ],
   "source": [
    "test_labels[0]"
   ]
  },
  {
   "cell_type": "code",
   "execution_count": 28,
   "metadata": {},
   "outputs": [
    {
     "data": {
      "text/plain": [
       "<matplotlib.image.AxesImage at 0x7f81a16e6a50>"
      ]
     },
     "execution_count": 28,
     "metadata": {},
     "output_type": "execute_result"
    },
    {
     "data": {
      "image/png": "[encoded data removed]",
      "text/plain": [
       "<matplotlib.figure.Figure at 0x7f81a1798790>"
      ]
     },
     "execution_count": 28,
     "metadata": {
      "image/png": {
       "height": 250,
       "width": 253
      }
     },
     "output_type": "execute_result"
    }
   ],
   "source": [
    "import matplotlib.pyplot as plt\n",
    "plt.imshow(test_images[0][:,:,0])"
   ]
  },
  {
   "cell_type": "code",
   "execution_count": 0,
   "metadata": {},
   "outputs": [],
   "source": []
  }
 ],
 "metadata": {
  "kernelspec": {
   "display_name": "Python 2",
   "language": "python",
   "name": "python2"
  },
  "language_info": {
   "codemirror_mode": {
    "name": "ipython",
    "version": 2
   },
   "file_extension": ".py",
   "mimetype": "text/x-python",
   "name": "python",
   "nbconvert_exporter": "python",
   "pygments_lexer": "ipython2",
   "version": "2.7.16"
  }
 },
 "nbformat": 4,
 "nbformat_minor": 1
}
