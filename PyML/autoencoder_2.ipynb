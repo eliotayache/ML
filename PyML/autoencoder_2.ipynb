{
 "cells": [
  {
   "cell_type": "markdown",
   "metadata": {},
   "source": [
    "#A simple autoencoder test\n",
    "Bottleneck consists of a single number, which determines the fraction of the image covered in black squares"
   ]
  },
  {
   "cell_type": "code",
   "execution_count": 3,
   "metadata": {},
   "outputs": [
    {
     "name": "stdout",
     "output_type": "stream",
     "text": [
      "tf.estimator package not installed.\n",
      "tf.estimator package not installed.\n"
     ]
    }
   ],
   "source": [
    "import numpy as np\n",
    "\n",
    "import tensorflow as tf\n",
    "from tensorflow.keras import datasets, layers, models\n",
    "\n",
    "from matplotlib import pyplot as plt"
   ]
  },
  {
   "cell_type": "code",
   "execution_count": 32,
   "metadata": {},
   "outputs": [],
   "source": [
    "# Decoder goes here\n",
    "N_image = 28 # Size of (square) input image\n",
    "\n",
    "def linear(x):\n",
    "    # x represents the fraction of the image full of ones\n",
    "    img = np.repeat(np.linspace(-1,1,28), N_image).reshape(N_image,N_image) * x\n",
    "    return img\n",
    "\n",
    "def ellipsoid(A,e,theta):\n",
    "    B = A*(1.-e)\n",
    "    x = np.tile(np.linspace(-1,1,28).reshape(1,28), (28,1))\n",
    "    y = np.tile(-np.linspace(-1,1,28).reshape(28,1), (1,28))\n",
    "    x_prime = x * np.cos(theta) - y * np.sin(theta)\n",
    "    y_prime = x * np.sin(theta) + y * np.cos(theta)\n",
    "    r_prime = np.sqrt((x_prime/A)**2 + (y_prime/B)**2)\n",
    "    img = np.exp(-r_prime)\n",
    "    return(img)"
   ]
  },
  {
   "cell_type": "code",
   "execution_count": 31,
   "metadata": {},
   "outputs": [
    {
     "data": {
      "image/png": "[encoded data removed]",
      "text/plain": [
       "<matplotlib.figure.Figure at 0x11bc96310>"
      ]
     },
     "metadata": {},
     "output_type": "display_data"
    },
    {
     "name": "stdout",
     "output_type": "stream",
     "text": [
      "[[0.16230778 0.16477167 0.16664825 0.16790478 0.16851885 0.16847937\n",
      "  0.16778706 0.16645441 0.16450512 0.16197312 0.15890107 0.15533876\n",
      "  0.15134117 0.14696665 0.14227507 0.1373262  0.13217827 0.12688678\n",
      "  0.12150363 0.11607645 0.1106482  0.10525697 0.09993597 0.09471362\n",
      "  0.08961376 0.08465599 0.07985593 0.07522569]\n",
      " [0.18223946 0.1857089  0.1885     0.19056016 0.19184931 0.19234185\n",
      "  0.19202787 0.19091369 0.18902153 0.18638839 0.18306427 0.17910989\n",
      "  0.17459404 0.16959088 0.16417725 0.15843026 0.15242516 0.14623367\n",
      "  0.13992261 0.13355306 0.12717978 0.12085096 0.11460824 0.10848691\n",
      "  0.10251625 0.09671998 0.09111677 0.08572069]\n",
      " [0.20370716 0.20847933 0.21248394 0.21563976 0.21787993 0.21915539\n",
      "  0.21943762 0.21872024 0.21701941 0.21437288 0.21083784 0.2064879\n",
      "  0.20140928 0.19569686 0.18945014 0.18276959 0.17575346 0.16849526\n",
      "  0.16108184 0.15359207 0.14609613 0.13865524 0.13132175 0.12413948\n",
      "  0.11714429 0.11036476 0.10382293 0.09753502]\n",
      " [0.22646164 0.23289691 0.23848987 0.24311933 0.24667875 0.24908224\n",
      "  0.25026981 0.2502112  0.24890789 0.24639307 0.24272934 0.23800478\n",
      "  0.23232755 0.22581989 0.21861201 0.21083639 0.20262288 0.19409479\n",
      "  0.18536607 0.17653945 0.16770548 0.15894221 0.15031554 0.14187983\n",
      "  0.13367881 0.12574663 0.11810897 0.1107841 ]\n",
      " [0.25007064 0.25858985 0.26622753 0.27280916 0.27817165 0.28217295\n",
      "  0.28470145 0.2856841  0.28509193 0.28294244 0.27929813 0.2742617\n",
      "  0.26796849 0.26057726 0.25226056 0.24319563 0.23355657 0.22350825\n",
      "  0.21320195 0.20277271 0.19233811 0.18199807 0.17183559 0.16191784\n",
      "  0.15229776 0.14301564 0.13410077 0.12557308]\n",
      " [0.27386674 0.28493282 0.29514555 0.30426432 0.31204976 0.31827773\n",
      "  0.32275494 0.32533433 0.32592798 0.32451532 0.32114509 0.31593072\n",
      "  0.30903994 0.30068059 0.29108487 0.2804942  0.2691463  0.25726522\n",
      "  0.24505461 0.23269387 0.22033671 0.2081114  0.19612224 0.18445174\n",
      "  0.17316315 0.16230301 0.15190372 0.14198584]\n",
      " [0.29690482 0.31097797 0.3243358  0.33666574 0.34763486 0.3569071\n",
      "  0.3641662  0.36914224 0.37163812 0.37155111 0.36888484 0.36374885\n",
      "  0.35634588 0.3469498  0.335879   0.32347    0.31005481 0.2959442\n",
      "  0.28141683 0.26671382 0.25203735 0.23755216 0.22338861 0.20964675\n",
      "  0.19640055 0.18370204 0.17158516 0.16006911]\n",
      " [0.31795491 0.33541037 0.35244399 0.36868334 0.38369973 0.39702277\n",
      "  0.40816698 0.41667075 0.42214414 0.42431752 0.42307955 0.41849395\n",
      "  0.41078983 0.40032863 0.38755722 0.37295887 0.35701132 0.34015667\n",
      "  0.3227837  0.30522041 0.28773395 0.27053502 0.25378451 0.23760094\n",
      "  0.22206769 0.20723967 0.19314908 0.17981027]\n",
      " [0.33556766 0.35657478 0.37763724 0.39836578 0.41826964 0.43675575\n",
      "  0.45314438 0.46670903 0.47674527 0.48266326 0.48408498 0.48091611\n",
      "  0.47336503 0.46190131 0.44717046 0.42989524 0.41079079 0.39050695\n",
      "  0.36959842 0.34851642 0.3276137  0.30715625 0.28733742 0.2682917\n",
      "  0.25010701 0.23283523 0.21650071 0.2011071 ]\n",
      " [0.34824808 0.37263528 0.39771681 0.42316273 0.44850725 0.47311877\n",
      "  0.49617831 0.51668286 0.53349777 0.54548119 0.55168057 0.55155161\n",
      "  0.54510602 0.53290815 0.5159225  0.49529402 0.47215395 0.44749849\n",
      "  0.42213891 0.39669966 0.37164047 0.34728644 0.32385754 0.30149392\n",
      "  0.28027646 0.26024263 0.24139865 0.22372853]\n",
      " [0.35473686 0.38190349 0.4104675  0.44024176 0.47090825 0.50196287\n",
      "  0.53264462 0.5618565  0.58810647 0.60953439 0.62412727 0.63018707\n",
      "  0.6269162  0.61475241 0.59518027 0.57017751 0.54168451 0.51131381\n",
      "  0.48027776 0.44943063 0.41934601 0.39039159 0.36278915 0.33665913\n",
      "  0.31205255 0.28897334 0.26739401 0.2472666 ]\n",
      " [0.35432414 0.38327335 0.41423185 0.44719539 0.48207947 0.51866895\n",
      "  0.55653661 0.59491252 0.63248335 0.66712275 0.69566418 0.71411235\n",
      "  0.71890723 0.70896356 0.68645383 0.65531487 0.61932649 0.58127401\n",
      "  0.54296168 0.50548161 0.46946288 0.43524531 0.40299017 0.37274885\n",
      "  0.34450534 0.31820282 0.29376046 0.27108412]\n",
      " [0.34705648 0.37657257 0.40847926 0.44292074 0.48002297 0.51987247\n",
      "  0.56247752 0.60769358 0.65507357 0.70355207 0.75076232 0.79167317\n",
      "  0.81707124 0.81688388 0.79120258 0.75015636 0.70290388 0.6544285\n",
      "  0.60707236 0.56188923 0.51932059 0.47950816 0.44244225 0.4080356\n",
      "  0.3761619  0.3466768  0.31942962 0.29427002]\n",
      " [0.33372257 0.36262207 0.39401274 0.4281047  0.4651233  0.50530862\n",
      "  0.54891309 0.59619552 0.6474062  0.7027487  0.76226973 0.82547082\n",
      "  0.88940332 0.93487449 0.90862343 0.84673365 0.78270601 0.72186879\n",
      "  0.66514348 0.61259219 0.56404435 0.51925889 0.47797746 0.43994458\n",
      "  0.40491575 0.37266064 0.34296412 0.31562625]\n",
      " [0.31562625 0.34296412 0.37266064 0.40491575 0.43994458 0.47797746\n",
      "  0.51925889 0.56404435 0.61259219 0.66514348 0.72186879 0.78270601\n",
      "  0.84673365 0.90862343 0.93487449 0.88940332 0.82547082 0.76226973\n",
      "  0.7027487  0.6474062  0.59619552 0.54891309 0.50530862 0.4651233\n",
      "  0.4281047  0.39401274 0.36262207 0.33372257]\n",
      " [0.29427002 0.31942962 0.3466768  0.3761619  0.4080356  0.44244225\n",
      "  0.47950816 0.51932059 0.56188923 0.60707236 0.6544285  0.70290388\n",
      "  0.75015636 0.79120258 0.81688388 0.81707124 0.79167317 0.75076232\n",
      "  0.70355207 0.65507357 0.60769358 0.56247752 0.51987247 0.48002297\n",
      "  0.44292074 0.40847926 0.37657257 0.34705648]\n",
      " [0.27108412 0.29376046 0.31820282 0.34450534 0.37274885 0.40299017\n",
      "  0.43524531 0.46946288 0.50548161 0.54296168 0.58127401 0.61932649\n",
      "  0.65531487 0.68645383 0.70896356 0.71890723 0.71411235 0.69566418\n",
      "  0.66712275 0.63248335 0.59491252 0.55653661 0.51866895 0.48207947\n",
      "  0.44719539 0.41423185 0.38327335 0.35432414]\n",
      " [0.2472666  0.26739401 0.28897334 0.31205255 0.33665913 0.36278915\n",
      "  0.39039159 0.41934601 0.44943063 0.48027776 0.51131381 0.54168451\n",
      "  0.57017751 0.59518027 0.61475241 0.6269162  0.63018707 0.62412727\n",
      "  0.60953439 0.58810647 0.5618565  0.53264462 0.50196287 0.47090825\n",
      "  0.44024176 0.4104675  0.38190349 0.35473686]\n",
      " [0.22372853 0.24139865 0.26024263 0.28027646 0.30149392 0.32385754\n",
      "  0.34728644 0.37164047 0.39669966 0.42213891 0.44749849 0.47215395\n",
      "  0.49529402 0.5159225  0.53290815 0.54510602 0.55155161 0.55168057\n",
      "  0.54548119 0.53349777 0.51668286 0.49617831 0.47311877 0.44850725\n",
      "  0.42316273 0.39771681 0.37263528 0.34824808]\n",
      " [0.2011071  0.21650071 0.23283523 0.25010701 0.2682917  0.28733742\n",
      "  0.30715625 0.3276137  0.34851642 0.36959842 0.39050695 0.41079079\n",
      "  0.42989524 0.44717046 0.46190131 0.47336503 0.48091611 0.48408498\n",
      "  0.48266326 0.47674527 0.46670903 0.45314438 0.43675575 0.41826964\n",
      "  0.39836578 0.37763724 0.35657478 0.33556766]\n",
      " [0.17981027 0.19314908 0.20723967 0.22206769 0.23760094 0.25378451\n",
      "  0.27053502 0.28773395 0.30522041 0.3227837  0.34015667 0.35701132\n",
      "  0.37295887 0.38755722 0.40032863 0.41078983 0.41849395 0.42307955\n",
      "  0.42431752 0.42214414 0.41667075 0.40816698 0.39702277 0.38369973\n",
      "  0.36868334 0.35244399 0.33541037 0.31795491]\n",
      " [0.16006911 0.17158516 0.18370204 0.19640055 0.20964675 0.22338861\n",
      "  0.23755216 0.25203735 0.26671382 0.28141683 0.2959442  0.31005481\n",
      "  0.32347    0.335879   0.3469498  0.35634588 0.36374885 0.36888484\n",
      "  0.37155111 0.37163812 0.36914224 0.3641662  0.3569071  0.34763486\n",
      "  0.33666574 0.3243358  0.31097797 0.29690482]\n",
      " [0.14198584 0.15190372 0.16230301 0.17316315 0.18445174 0.19612224\n",
      "  0.2081114  0.22033671 0.23269387 0.24505461 0.25726522 0.2691463\n",
      "  0.2804942  0.29108487 0.30068059 0.30903994 0.31593072 0.32114509\n",
      "  0.32451532 0.32592798 0.32533433 0.32275494 0.31827773 0.31204976\n",
      "  0.30426432 0.29514555 0.28493282 0.27386674]\n",
      " [0.12557308 0.13410077 0.14301564 0.15229776 0.16191784 0.17183559\n",
      "  0.18199807 0.19233811 0.20277271 0.21320195 0.22350825 0.23355657\n",
      "  0.24319563 0.25226056 0.26057726 0.26796849 0.2742617  0.27929813\n",
      "  0.28294244 0.28509193 0.2856841  0.28470145 0.28217295 0.27817165\n",
      "  0.27280916 0.26622753 0.25858985 0.25007064]\n",
      " [0.1107841  0.11810897 0.12574663 0.13367881 0.14187983 0.15031554\n",
      "  0.15894221 0.16770548 0.17653945 0.18536607 0.19409479 0.20262288\n",
      "  0.21083639 0.21861201 0.22581989 0.23232755 0.23800478 0.24272934\n",
      "  0.24639307 0.24890789 0.2502112  0.25026981 0.24908224 0.24667875\n",
      "  0.24311933 0.23848987 0.23289691 0.22646164]\n",
      " [0.09753502 0.10382293 0.11036476 0.11714429 0.12413948 0.13132175\n",
      "  0.13865524 0.14609613 0.15359207 0.16108184 0.16849526 0.17575346\n",
      "  0.18276959 0.18945014 0.19569686 0.20140928 0.2064879  0.21083784\n",
      "  0.21437288 0.21701941 0.21872024 0.21943762 0.21915539 0.21787993\n",
      "  0.21563976 0.21248394 0.20847933 0.20370716]\n",
      " [0.08572069 0.09111677 0.09671998 0.10251625 0.10848691 0.11460824\n",
      "  0.12085096 0.12717978 0.13355306 0.13992261 0.14623367 0.15242516\n",
      "  0.15843026 0.16417725 0.16959088 0.17459404 0.17910989 0.18306427\n",
      "  0.18638839 0.18902153 0.19091369 0.19202787 0.19234185 0.19184931\n",
      "  0.19056016 0.1885     0.1857089  0.18223946]\n",
      " [0.07522569 0.07985593 0.08465599 0.08961376 0.09471362 0.09993597\n",
      "  0.10525697 0.1106482  0.11607645 0.12150363 0.12688678 0.13217827\n",
      "  0.1373262  0.14227507 0.14696665 0.15134117 0.15533876 0.15890107\n",
      "  0.16197312 0.16450512 0.16645441 0.16778706 0.16847937 0.16851885\n",
      "  0.16790478 0.16664825 0.16477167 0.16230778]]\n"
     ]
    }
   ],
   "source": [
    "# And here's a test to see that the decoder does what we expect:\n",
    "gal = ellipsoid(1.,0.5,0.3)\n",
    "plt.imshow(gal, cmap=\"Greys\")\n",
    "plt.show()\n",
    "\n",
    "print gal"
   ]
  },
  {
   "cell_type": "code",
   "execution_count": 100,
   "metadata": {},
   "outputs": [],
   "source": [
    "#Making dataset\n",
    "N_train = 10000\n",
    "noise = 0.05\n",
    "\n",
    "train_images = []\n",
    "train_labels = []\n",
    "for i in range(N_train):\n",
    "    A = np.random.uniform()\n",
    "    e = np.random.uniform()\n",
    "    theta = np.random.uniform()*np.pi\n",
    "    img = ellipsoid(A,e,theta) + np.random.normal(0,noise,N_image*N_image).reshape(N_image,N_image)\n",
    "    train_images.append(img)\n",
    "\n",
    "train_images = np.array([train_images]).reshape(N_train,N_image,N_image,1)\n",
    "#train_images_transposed = np.array([img.transpose() for img in train_images])\n",
    "#train_images = np.concatenate((train_images, train_images_transposed))\n",
    "#train_images = train_images.reshape(2*N_train,N_image,N_image,1)"
   ]
  },
  {
   "cell_type": "code",
   "execution_count": 101,
   "metadata": {},
   "outputs": [
    {
     "name": "stdout",
     "output_type": "stream",
     "text": [
      "(10000, 28, 28, 1)\n"
     ]
    }
   ],
   "source": [
    "print train_images.shape"
   ]
  },
  {
   "cell_type": "code",
   "execution_count": 102,
   "metadata": {},
   "outputs": [
    {
     "data": {
      "image/png": "[encoded data removed]",
      "text/plain": [
       "<matplotlib.figure.Figure at 0x11cb78bd0>"
      ]
     },
     "metadata": {},
     "output_type": "display_data"
    },
    {
     "name": "stdout",
     "output_type": "stream",
     "text": [
      "[-0.00681119  0.05838308  0.02591323  0.14435144  0.10578101  0.12971707\n",
      "  0.13536845  0.14745044  0.29408305  0.29673804  0.42981958  0.49026588\n",
      "  0.70335051  0.78645977  0.88453527  0.62202271  0.51871     0.4683829\n",
      "  0.38469316  0.3269776   0.28132089  0.10992821  0.10101647  0.13978483\n",
      "  0.053158    0.07960339  0.07516398  0.0140469 ]\n"
     ]
    }
   ],
   "source": [
    "# And here's a test to check that the training images are reasonable:\n",
    "plt.imshow(train_images[10,:,:,0], cmap='Greys')\n",
    "plt.show()\n",
    "print train_images[4,int(N_image/2),:,0]"
   ]
  },
  {
   "cell_type": "code",
   "execution_count": 103,
   "metadata": {},
   "outputs": [
    {
     "data": {
      "image/png": "[encoded data removed]",
      "text/plain": [
       "<matplotlib.figure.Figure at 0x11bbab090>"
      ]
     },
     "metadata": {},
     "output_type": "display_data"
    }
   ],
   "source": [
    "mean_image = np.mean(train_images,axis=0)[:,:,0]\n",
    "plt.imshow(mean_image)\n",
    "plt.show()"
   ]
  },
  {
   "cell_type": "code",
   "execution_count": 104,
   "metadata": {},
   "outputs": [],
   "source": [
    "from __future__ import division\n",
    "\n",
    "def normalize_meanstd(a, axis=None):\n",
    "    # axis param denotes axes along which mean & std reductions are to be performed\n",
    "    mean = np.mean(a, axis=axis, keepdims=True)\n",
    "    std = np.sqrt(((a - mean)**2).mean(axis=axis, keepdims=True))\n",
    "    return (a - mean) / std, mean, std\n",
    "\n",
    "train_images_std, mean, std = normalize_meanstd(train_images, axis=(1,2))"
   ]
  },
  {
   "cell_type": "code",
   "execution_count": 105,
   "metadata": {},
   "outputs": [],
   "source": [
    "#Lambda Layer (Decoder)\n",
    "def make_linear(x):\n",
    "    img = tf.tile(tf.reshape(tf.linspace(-1.,1.,N_image), [N_image,1,1]), [1,N_image,1])\n",
    "    img = tf.tile(tf.reshape(img, [1,N_image,N_image,1]), [tf.shape(x)[0],1,1,1])\n",
    "    img = tf.tile(tf.reshape(x, [tf.shape(x)[0],1,1,1]), [1,N_image,N_image,1]) * img\n",
    "    return img"
   ]
  },
  {
   "cell_type": "code",
   "execution_count": 106,
   "metadata": {},
   "outputs": [],
   "source": [
    "#Lambda Layer (Decoder, galaxies)\n",
    "def ellipsoid_layer(X):\n",
    "    A = tf.tile(tf.reshape(X[:,0], [tf.shape(X)[0],1,1,1]), [1,N_image,N_image,1])\n",
    "    e = tf.tile(tf.reshape(X[:,1], [tf.shape(X)[0],1,1,1]), [1,N_image,N_image,1])\n",
    "    theta = tf.tile(tf.reshape(X[:,2], [tf.shape(X)[0],1,1,1]), [1,N_image,N_image,1])\n",
    "    \n",
    "    B = A * (1. - e)\n",
    "    \n",
    "    x = tf.tile(tf.reshape(tf.linspace(-1.,1.,N_image), [1,N_image,1]), [N_image,1,1])\n",
    "    y = - tf.tile(tf.reshape(tf.linspace(-1.,1.,N_image), [N_image,1,1]), [1,N_image,1])\n",
    "    \n",
    "    x = tf.tile(tf.reshape(x,[1,N_image,N_image,1]), [tf.shape(X)[0],1,1,1])\n",
    "    y = tf.tile(tf.reshape(y,[1,N_image,N_image,1]), [tf.shape(X)[0],1,1,1])\n",
    "    \n",
    "    x_prime = x * tf.math.cos(theta) - y * tf.math.sin(theta)\n",
    "    y_prime = x * tf.math.sin(theta) + y * tf.math.cos(theta)\n",
    "    r_prime = tf.math.sqrt((x_prime/A)**2 + (y_prime/B)**2)\n",
    "    \n",
    "    img = tf.math.exp(-r_prime)\n",
    "    \n",
    "    return img\n",
    "\n",
    "    #img = tf.tile(tf.reshape(img, [1,N_image,N_image,1]), [tf.shape(x)[0],1,1,1])\n",
    "    #img = tf.tile(tf.reshape(x, [tf.shape(x)[0],1,1,1]), [1,N_image,N_image,1]) * img"
   ]
  },
  {
   "cell_type": "code",
   "execution_count": 107,
   "metadata": {},
   "outputs": [
    {
     "name": "stdout",
     "output_type": "stream",
     "text": [
      "_________________________________________________________________\n",
      "Layer (type)                 Output Shape              Param #   \n",
      "=================================================================\n",
      "conv2d_12 (Conv2D)           (None, 28, 28, 32)        320       \n",
      "_________________________________________________________________\n",
      "max_pooling2d_8 (MaxPooling2 (None, 14, 14, 32)        0         \n",
      "_________________________________________________________________\n",
      "conv2d_13 (Conv2D)           (None, 14, 14, 64)        18496     \n",
      "_________________________________________________________________\n",
      "max_pooling2d_9 (MaxPooling2 (None, 7, 7, 64)          0         \n",
      "_________________________________________________________________\n",
      "conv2d_14 (Conv2D)           (None, 7, 7, 64)          36928     \n",
      "_________________________________________________________________\n",
      "flatten_4 (Flatten)          (None, 3136)              0         \n",
      "_________________________________________________________________\n",
      "dense_4 (Dense)              (None, 3)                 9411      \n",
      "_________________________________________________________________\n",
      "lambda_4 (Lambda)            (None, 28, 28, 1)         0         \n",
      "=================================================================\n",
      "Total params: 65,155\n",
      "Trainable params: 65,155\n",
      "Non-trainable params: 0\n",
      "_________________________________________________________________\n"
     ]
    }
   ],
   "source": [
    "model = models.Sequential()\n",
    "filt_size = 3\n",
    "fs = filt_size\n",
    "model.add(layers.Conv2D(32, (fs, fs), activation='relu', padding=\"same\", input_shape = (N_image,N_image,1),strides=(1,1)))\n",
    "model.add(layers.MaxPooling2D((2, 2)))\n",
    "model.add(layers.Conv2D(64, (fs, fs), activation='relu', padding=\"same\"))\n",
    "model.add(layers.MaxPooling2D((2, 2)))\n",
    "model.add(layers.Conv2D(64, (fs, fs), activation='relu', padding=\"same\"))\n",
    "\n",
    "model.add(layers.Flatten())\n",
    "model.add(layers.Dense(3))\n",
    "\n",
    "#model.add(layers.Dense(3136, activation='relu'))\n",
    "#model.add(layers.Reshape((7, 7, 64)))\n",
    "\n",
    "#model.add(layers.Conv2D(64, (fs, fs), activation='relu', padding=\"same\"))\n",
    "#model.add(layers.UpSampling2D((2, 2)))\n",
    "#model.add(layers.Conv2D(64, (fs, fs), activation='relu', padding=\"same\"))\n",
    "#model.add(layers.UpSampling2D((2, 2)))\n",
    "#model.add(layers.Conv2D(1, (fs, fs), activation='sigmoid', padding=\"same\"))\n",
    "\n",
    "#model.add(layers.Flatten())\n",
    "#model.add(layers.Dense(64, activation='relu'))\n",
    "#model.add(layers.Dense(1))\n",
    "model.add(layers.Lambda(lambda x:ellipsoid_layer(x)))\n",
    "model.summary()"
   ]
  },
  {
   "cell_type": "code",
   "execution_count": 108,
   "metadata": {},
   "outputs": [],
   "source": [
    "model.compile(optimizer='RMSprop',\n",
    "              loss='mean_squared_error',\n",
    "              metrics=['accuracy']\n",
    "             )\n",
    "#model.compile(optimizer='adam',\n",
    "#              loss='sparse_categorical_crossentropy',\n",
    "#              metrics=['accuracy'])"
   ]
  },
  {
   "cell_type": "code",
   "execution_count": 109,
   "metadata": {
    "scrolled": true
   },
   "outputs": [
    {
     "name": "stdout",
     "output_type": "stream",
     "text": [
      "Epoch 1/5\n",
      "10000/10000 [==============================] - 17s 2ms/step - loss: 0.2022 - acc: 0.0000e+00\n",
      "Epoch 2/5\n",
      "10000/10000 [==============================] - 20s 2ms/step - loss: 0.1454 - acc: 0.0000e+00\n",
      "Epoch 3/5\n",
      "10000/10000 [==============================] - 19s 2ms/step - loss: 0.1296 - acc: 0.0000e+00\n",
      "Epoch 4/5\n",
      "10000/10000 [==============================] - 21s 2ms/step - loss: 0.1227 - acc: 0.0000e+00\n",
      "Epoch 5/5\n",
      "10000/10000 [==============================] - 19s 2ms/step - loss: 0.1184 - acc: 0.0000e+00\n"
     ]
    },
    {
     "data": {
      "text/plain": [
       "<tensorflow.python.keras.callbacks.History at 0x11bf44d90>"
      ]
     },
     "execution_count": 109,
     "metadata": {},
     "output_type": "execute_result"
    }
   ],
   "source": [
    "model.fit(train_images, train_images, epochs=5)\n",
    "#model.fit(train_images, train_labels/10., epochs=5)"
   ]
  },
  {
   "cell_type": "code",
   "execution_count": 139,
   "metadata": {},
   "outputs": [],
   "source": [
    "test_img = ellipsoid(0.05,0.4,0.5).reshape(28,28,1)# + np.random.normal(0,noise,N_image*N_image).reshape(N_image,N_image,1)\n",
    "#test_img = test_img[:,:,0].transpose().reshape(28,28,1)\n",
    "out = model.predict(np.array([test_img]))"
   ]
  },
  {
   "cell_type": "code",
   "execution_count": 140,
   "metadata": {},
   "outputs": [
    {
     "data": {
      "image/png": "[encoded data removed]",
      "text/plain": [
       "<matplotlib.figure.Figure at 0x11ba2f4d0>"
      ]
     },
     "metadata": {},
     "output_type": "display_data"
    },
    {
     "name": "stdout",
     "output_type": "stream",
     "text": [
      "[7.57414713e-14 3.54479668e-13 1.49560516e-12 5.59115762e-12\n",
      " 1.81651142e-11 5.02269707e-11 1.15678907e-10 2.17398234e-10\n",
      " 3.27555910e-10 3.90744277e-10 3.66949978e-10 2.71842385e-10\n",
      " 1.60373683e-10 7.65197982e-11 3.01080078e-11 9.97938568e-12\n",
      " 2.84654058e-12 7.13006183e-13 1.59729056e-13 3.25232606e-14\n",
      " 6.10342412e-15 1.06826806e-15 1.76147648e-16 2.75954516e-17\n",
      " 4.13667353e-18 5.96919340e-19 8.33332576e-20 1.13033272e-20]\n"
     ]
    }
   ],
   "source": [
    "plt.imshow(test_img[:,:,0])\n",
    "plt.show()\n",
    "print test_img[:,0,0]"
   ]
  },
  {
   "cell_type": "code",
   "execution_count": 141,
   "metadata": {},
   "outputs": [
    {
     "data": {
      "image/png": "[encoded data removed]",
      "text/plain": [
       "<matplotlib.figure.Figure at 0x11b9d6ad0>"
      ]
     },
     "metadata": {},
     "output_type": "display_data"
    },
    {
     "name": "stdout",
     "output_type": "stream",
     "text": [
      "[1.17558025e-12 8.77279326e-12 6.54208493e-11 4.87416496e-10\n",
      " 3.62717900e-09 2.69489551e-08 1.99777489e-07 1.47623325e-06\n",
      " 1.08549939e-05 7.91809944e-05 5.69302589e-04 3.97265051e-03\n",
      " 2.56470609e-02 1.23036295e-01 1.55113012e-01 3.81488577e-02\n",
      " 6.11681910e-03 8.86431255e-04 1.23888211e-04 1.70268249e-05\n",
      " 2.31896843e-06 3.14116733e-07 4.23990834e-08 5.70916203e-09\n",
      " 7.67441444e-10 1.03030258e-10 1.38186624e-11 1.85201008e-12]\n"
     ]
    }
   ],
   "source": [
    "plt.imshow(out[0,:,:,0])\n",
    "plt.show()\n",
    "print out[0,:,15,0]\n",
    "#print out"
   ]
  },
  {
   "cell_type": "code",
   "execution_count": 373,
   "metadata": {},
   "outputs": [
    {
     "name": "stdout",
     "output_type": "stream",
     "text": [
      "(3136, 1)\n"
     ]
    }
   ],
   "source": [
    "w = model.get_weights()\n",
    "warr = np.array(w)\n",
    "print warr[6].shape"
   ]
  },
  {
   "cell_type": "code",
   "execution_count": 17,
   "metadata": {},
   "outputs": [
    {
     "data": {
      "text/plain": [
       "(array([5.0000e+00, 1.2000e+01, 4.4000e+01, 1.3000e+02, 3.7600e+02,\n",
       "        8.4000e+02, 1.9390e+03, 4.0880e+03, 8.0060e+03, 2.4094e+04,\n",
       "        3.4213e+04, 3.6949e+04, 3.8892e+04, 3.9553e+04, 3.9769e+04,\n",
       "        3.9195e+04, 3.8238e+04, 3.6332e+04, 3.1498e+04, 1.3983e+04,\n",
       "        6.2750e+03, 3.4210e+03, 1.7680e+03, 8.6500e+02, 4.6000e+02,\n",
       "        2.5000e+02, 1.2400e+02, 6.0000e+01, 2.2000e+01, 7.0000e+00]),\n",
       " array([-0.12523131, -0.11652011, -0.10780893, -0.09909773, -0.09038654,\n",
       "        -0.08167534, -0.07296415, -0.06425296, -0.05554176, -0.04683057,\n",
       "        -0.03811938, -0.02940818, -0.02069699, -0.0119858 , -0.0032746 ,\n",
       "         0.00543659,  0.01414779,  0.02285898,  0.03157017,  0.04028137,\n",
       "         0.04899256,  0.05770375,  0.06641494,  0.07512614,  0.08383733,\n",
       "         0.09254853,  0.10125972,  0.10997091,  0.11868211,  0.1273933 ,\n",
       "         0.1361045 ], dtype=float32),\n",
       " <a list of 30 Patch objects>)"
      ]
     },
     "execution_count": 17,
     "metadata": {},
     "output_type": "execute_result"
    },
    {
     "data": {
      "image/png": "[encoded data removed]",
      "text/plain": [
       "<Figure size 432x288 with 1 Axes>"
      ]
     },
     "metadata": {
      "needs_background": "light"
     },
     "output_type": "display_data"
    }
   ],
   "source": [
    "#plt.imshow(warr[6],aspect='auto')\n",
    "plt.hist(warr[6].reshape(-1),bins=30)"
   ]
  },
  {
   "cell_type": "code",
   "execution_count": 19,
   "metadata": {},
   "outputs": [],
   "source": [
    "# Run the following to see all the weights (filters) for one of the layers\n",
    "#for i in np.arange(64):    \n",
    "#    plt.imshow(w[2][:,:,0,i])\n",
    "#    #plt.imshow(np.random.uniform(-1,1,9*9).reshape(9,9))\n",
    "#    plt.show()"
   ]
  },
  {
   "cell_type": "code",
   "execution_count": 191,
   "metadata": {},
   "outputs": [],
   "source": [
    "#Lambda Layer (Decoder) (TL's copy):\n",
    "def make_regions(x):\n",
    "    x_int = x[1]\n",
    "    print x, tf.to_float(x_int)\n",
    "    img = np.zeros(N_image*N_image).reshape(N_image,N_image)\n",
    "    Q = int(np.floor(x_int*N_image))\n",
    "    img[:,0:Q] = 1\n",
    "    return img\n",
    "\n",
    "model = models.Sequential()\n",
    "model.add(layers.Conv2D(32, (3, 3), activation='relu', input_shape=(28, 28, 1)))\n",
    "model.add(layers.MaxPooling2D((2, 2)))\n",
    "model.add(layers.Conv2D(64, (3, 3), activation='relu'))\n",
    "model.add(layers.MaxPooling2D((2, 2)))\n",
    "model.add(layers.Conv2D(64, (3, 3), activation='relu'))\n",
    "model.add(layers.Flatten())\n",
    "model.add(layers.Dense(64, activation='relu'))\n",
    "model.add(layers.Dense(1, activation='softmax'))\n",
    "model.add(layers.Lambda(make_regions))"
   ]
  },
  {
   "cell_type": "code",
   "execution_count": 70,
   "metadata": {},
   "outputs": [
    {
     "name": "stdout",
     "output_type": "stream",
     "text": [
      "_________________________________________________________________\n",
      "Layer (type)                 Output Shape              Param #   \n",
      "=================================================================\n",
      "conv2d_6 (Conv2D)            (None, 26, 26, 32)        320       \n",
      "_________________________________________________________________\n",
      "max_pooling2d_4 (MaxPooling2 (None, 13, 13, 32)        0         \n",
      "_________________________________________________________________\n",
      "conv2d_7 (Conv2D)            (None, 11, 11, 64)        18496     \n",
      "_________________________________________________________________\n",
      "max_pooling2d_5 (MaxPooling2 (None, 5, 5, 64)          0         \n",
      "_________________________________________________________________\n",
      "conv2d_8 (Conv2D)            (None, 3, 3, 64)          36928     \n",
      "_________________________________________________________________\n",
      "flatten_2 (Flatten)          (None, 576)               0         \n",
      "_________________________________________________________________\n",
      "dense_4 (Dense)              (None, 64)                36928     \n",
      "_________________________________________________________________\n",
      "dense_5 (Dense)              (None, 1)                 65        \n",
      "=================================================================\n",
      "Total params: 92,737\n",
      "Trainable params: 92,737\n",
      "Non-trainable params: 0\n",
      "_________________________________________________________________\n"
     ]
    }
   ],
   "source": [
    "model.summary()"
   ]
  },
  {
   "cell_type": "code",
   "execution_count": 5,
   "metadata": {},
   "outputs": [],
   "source": [
    "# Here's the mnist train data, for reference:\n",
    "\n",
    "#mnist_data = np.load('mnist.npz')\n",
    "#(train_images, train_labels), (test_images, test_labels) = (mnist_data['x_train'], mnist_data['y_train']), (mnist_data['x_test'], mnist_data['y_test'])"
   ]
  },
  {
   "cell_type": "code",
   "execution_count": 6,
   "metadata": {},
   "outputs": [],
   "source": [
    "train_images = train_images.reshape((60000, 28, 28, 1))\n",
    "test_images = test_images.reshape((10000, 28, 28, 1))\n",
    "\n",
    "# Normalize pixel values to be between 0 and 1\n",
    "train_images, test_images = train_images / 255.0, test_images / 255.0\n"
   ]
  },
  {
   "cell_type": "code",
   "execution_count": 66,
   "metadata": {},
   "outputs": [],
   "source": [
    "model = models.Sequential()\n",
    "model.add(layers.Conv2D(32, (3, 3), activation='relu', input_shape=(28, 28, 1)))\n",
    "model.add(layers.MaxPooling2D((2, 2)))\n",
    "model.add(layers.Conv2D(64, (3, 3), activation='relu'))\n",
    "model.add(layers.MaxPooling2D((2, 2)))\n",
    "model.add(layers.Conv2D(64, (3, 3), activation='relu'))"
   ]
  },
  {
   "cell_type": "code",
   "execution_count": 15,
   "metadata": {},
   "outputs": [
    {
     "name": "stdout",
     "output_type": "stream",
     "text": [
      "_________________________________________________________________\n",
      "Layer (type)                 Output Shape              Param #   \n",
      "=================================================================\n",
      "conv2d_6 (Conv2D)            (None, 26, 26, 32)        320       \n",
      "_________________________________________________________________\n",
      "max_pooling2d_4 (MaxPooling2 (None, 13, 13, 32)        0         \n",
      "_________________________________________________________________\n",
      "conv2d_7 (Conv2D)            (None, 11, 11, 64)        18496     \n",
      "_________________________________________________________________\n",
      "max_pooling2d_5 (MaxPooling2 (None, 5, 5, 64)          0         \n",
      "_________________________________________________________________\n",
      "conv2d_8 (Conv2D)            (None, 3, 3, 64)          36928     \n",
      "=================================================================\n",
      "Total params: 55,744\n",
      "Trainable params: 55,744\n",
      "Non-trainable params: 0\n",
      "_________________________________________________________________\n"
     ]
    }
   ],
   "source": [
    "model.summary()\n"
   ]
  },
  {
   "cell_type": "code",
   "execution_count": 17,
   "metadata": {},
   "outputs": [],
   "source": [
    "model.add(layers.Flatten())\n",
    "model.add(layers.Dense(64, activation='relu'))\n",
    "model.add(layers.Dense(10, activation='softmax'))"
   ]
  },
  {
   "cell_type": "code",
   "execution_count": 18,
   "metadata": {},
   "outputs": [
    {
     "name": "stdout",
     "output_type": "stream",
     "text": [
      "_________________________________________________________________\n",
      "Layer (type)                 Output Shape              Param #   \n",
      "=================================================================\n",
      "conv2d_6 (Conv2D)            (None, 26, 26, 32)        320       \n",
      "_________________________________________________________________\n",
      "max_pooling2d_4 (MaxPooling2 (None, 13, 13, 32)        0         \n",
      "_________________________________________________________________\n",
      "conv2d_7 (Conv2D)            (None, 11, 11, 64)        18496     \n",
      "_________________________________________________________________\n",
      "max_pooling2d_5 (MaxPooling2 (None, 5, 5, 64)          0         \n",
      "_________________________________________________________________\n",
      "conv2d_8 (Conv2D)            (None, 3, 3, 64)          36928     \n",
      "_________________________________________________________________\n",
      "flatten_1 (Flatten)          (None, 576)               0         \n",
      "_________________________________________________________________\n",
      "dense_2 (Dense)              (None, 64)                36928     \n",
      "_________________________________________________________________\n",
      "dense_3 (Dense)              (None, 10)                650       \n",
      "=================================================================\n",
      "WARNING:tensorflow:Discrepancy between trainable weights and collected trainable weights, did you set `model.trainable` without calling `model.compile` after ?\n",
      "Total params: 55,744\n",
      "Trainable params: 55,744\n",
      "Non-trainable params: 0\n",
      "_________________________________________________________________\n"
     ]
    }
   ],
   "source": [
    "model.summary()\n"
   ]
  },
  {
   "cell_type": "code",
   "execution_count": 19,
   "metadata": {
    "scrolled": true
   },
   "outputs": [
    {
     "name": "stdout",
     "output_type": "stream",
     "text": [
      "Epoch 1/5\n",
      " 2400/60000 [>.............................] - ETA: 3:03 - loss: 1.0760 - acc: 0.6562"
     ]
    },
    {
     "name": "stderr",
     "output_type": "stream",
     "text": [
      "WARNING: some intermediate output was truncated.\n",
      "WARNING: some intermediate output was truncated.\n",
      "WARNING: 1 intermediate output message was discarded.\n"
     ]
    },
    {
     "name": "stdout",
     "output_type": "stream",
     "text": [
      "60000/60000 [==============================] - 134s 2ms/step - loss: 0.0197 - acc: 0.9940\n"
     ]
    },
    {
     "data": {
      "text/plain": [
       "<tensorflow.python.keras.callbacks.History at 0x7f81c7fbb1d0>"
      ]
     },
     "execution_count": 19,
     "metadata": {},
     "output_type": "execute_result"
    },
    {
     "name": "stderr",
     "output_type": "stream",
     "text": [
      "WARNING: 5980 intermediate output messages were discarded.\n",
      "WARNING: some intermediate output was truncated.\n",
      "WARNING: 62 intermediate output messages were discarded.\n",
      "WARNING: some intermediate output was truncated.\n",
      "WARNING: 1 intermediate output message was discarded.\n",
      "WARNING: some intermediate output was truncated.\n",
      "WARNING: 3 intermediate output messages were discarded.\n",
      "WARNING: some intermediate output was truncated.\n",
      "WARNING: 3 intermediate output messages were discarded.\n",
      "WARNING: some intermediate output was truncated.\n",
      "WARNING: 3 intermediate output messages were discarded.\n",
      "WARNING: 1 intermediate output message was discarded.\n",
      "WARNING: some intermediate output was truncated.\n",
      "WARNING: 3 intermediate output messages were discarded.\n",
      "WARNING: 1 intermediate output message was discarded.\n",
      "WARNING: some intermediate output was truncated.\n",
      "WARNING: 3 intermediate output messages were discarded.\n",
      "WARNING: 1 intermediate output message was discarded.\n",
      "WARNING: some intermediate output was truncated.\n",
      "WARNING: 3 intermediate output messages were discarded.\n",
      "WARNING: 1 intermediate output message was discarded.\n",
      "WARNING: some intermediate output was truncated.\n"
     ]
    }
   ],
   "source": [
    "model.compile(optimizer='adam',\n",
    "              loss='sparse_categorical_crossentropy',\n",
    "              metrics=['accuracy'])\n",
    "\n",
    "model.fit(train_images, train_labels, epochs=5)"
   ]
  },
  {
   "cell_type": "code",
   "execution_count": 23,
   "metadata": {},
   "outputs": [
    {
     "data": {
      "text/plain": [
       "array([7])"
      ]
     },
     "execution_count": 23,
     "metadata": {},
     "output_type": "execute_result"
    }
   ],
   "source": [
    "model.predict_classes(np.array([test_images[0]]))"
   ]
  },
  {
   "cell_type": "code",
   "execution_count": 24,
   "metadata": {},
   "outputs": [
    {
     "data": {
      "text/plain": [
       "7"
      ]
     },
     "execution_count": 24,
     "metadata": {},
     "output_type": "execute_result"
    }
   ],
   "source": [
    "test_labels[0]"
   ]
  },
  {
   "cell_type": "code",
   "execution_count": 28,
   "metadata": {},
   "outputs": [
    {
     "data": {
      "text/plain": [
       "<matplotlib.image.AxesImage at 0x7f81a16e6a50>"
      ]
     },
     "execution_count": 28,
     "metadata": {},
     "output_type": "execute_result"
    },
    {
     "data": {
      "image/png": "[encoded data removed]",
      "text/plain": [
       "<matplotlib.figure.Figure at 0x7f81a1798790>"
      ]
     },
     "execution_count": 28,
     "metadata": {
      "image/png": {
       "height": 250,
       "width": 253
      }
     },
     "output_type": "execute_result"
    }
   ],
   "source": [
    "import matplotlib.pyplot as plt\n",
    "plt.imshow(test_images[0][:,:,0])"
   ]
  },
  {
   "cell_type": "code",
   "execution_count": 0,
   "metadata": {},
   "outputs": [],
   "source": []
  }
 ],
 "metadata": {
  "kernelspec": {
   "display_name": "Python 2",
   "language": "python",
   "name": "python2"
  },
  "language_info": {
   "codemirror_mode": {
    "name": "ipython",
    "version": 2
   },
   "file_extension": ".py",
   "mimetype": "text/x-python",
   "name": "python",
   "nbconvert_exporter": "python",
   "pygments_lexer": "ipython2",
   "version": "2.7.10"
  }
 },
 "nbformat": 4,
 "nbformat_minor": 1
}
